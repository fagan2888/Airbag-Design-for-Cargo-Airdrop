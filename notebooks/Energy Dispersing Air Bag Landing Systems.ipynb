{
 "cells": [
  {
   "cell_type": "markdown",
   "metadata": {},
   "source": [
    "######The latest version of this IPython notebook is available at [https://github.com/jckantor/Airbag-Design-for-Cargo-Airdrop](https://github.com/jckantor/Airbag-Design-for-Cargo-Airdrop) under the [MIT License](https://github.com/jckantor/Airbag-Design-for-Cargo-Airdrop/blob/master/LICENSE).\n",
    "\n",
    "J.C. Kantor (Kantor.1@nd.edu)"
   ]
  },
  {
   "cell_type": "markdown",
   "metadata": {
    "slideshow": {
     "slide_type": "slide"
    }
   },
   "source": [
    "# Energy Dispersing Air Bag Landing Systems\n",
    "\n",
    "<p><a href=\"http://commons.wikimedia.org/wiki/File:A_pallet_loaded_with_heavy_cargo_is_airdropped_from_a_C-130_Hercules_aircraft_during_tactical_airdrop_training_flight_for_members_of_the_345th_Tactical_Airlift_Squadron_DF-ST-91-10084.jpg#/media/File:A_pallet_loaded_with_heavy_cargo_is_airdropped_from_a_C-130_Hercules_aircraft_during_tactical_airdrop_training_flight_for_members_of_the_345th_Tactical_Airlift_Squadron_DF-ST-91-10084.jpg\"><img src=\"http://upload.wikimedia.org/wikipedia/commons/thumb/3/3c/A_pallet_loaded_with_heavy_cargo_is_airdropped_from_a_C-130_Hercules_aircraft_during_tactical_airdrop_training_flight_for_members_of_the_345th_Tactical_Airlift_Squadron_DF-ST-91-10084.jpg/1200px-thumbnail.jpg\" alt=\"A pallet loaded with heavy cargo is airdropped from a C-130 Hercules aircraft during tactical airdrop training flight for members of the 345th Tactical Airlift Squadron DF-ST-91-10084.jpg\"></a><br>\"<a href=\"http://commons.wikimedia.org/wiki/File:A_pallet_loaded_with_heavy_cargo_is_airdropped_from_a_C-130_Hercules_aircraft_during_tactical_airdrop_training_flight_for_members_of_the_345th_Tactical_Airlift_Squadron_DF-ST-91-10084.jpg#/media/File:A_pallet_loaded_with_heavy_cargo_is_airdropped_from_a_C-130_Hercules_aircraft_during_tactical_airdrop_training_flight_for_members_of_the_345th_Tactical_Airlift_Squadron_DF-ST-91-10084.jpg\">A pallet loaded with heavy cargo is airdropped from a C-130 Hercules aircraft during tactical airdrop training flight for members of the 345th Tactical Airlift Squadron DF-ST-91-10084</a>\" by Tech. Sgt. James R. Ferguson - <a rel=\"nofollow\" class=\"external free\" href=\"http://www.defenseimagery.mil/imageRetrieve.action?guid=1f916304399ca162bfaf704e192b4d085b093844&amp;t=2\">http://www.defenseimagery.mil/imageRetrieve.action?guid=1f916304399ca162bfaf704e192b4d085b093844&amp;t=2</a>. Licensed under Public Domain via <a href=\"//commons.wikimedia.org/wiki/\">Wikimedia Commons</a>.</p>"
   ]
  },
  {
   "cell_type": "code",
   "execution_count": 26,
   "metadata": {
    "collapsed": false
   },
   "outputs": [
    {
     "data": {
      "text/html": [
       "<link href='http://fonts.googleapis.com/css?family=Fenix' rel='stylesheet' type='text/css'>\n",
       "<link href='http://fonts.googleapis.com/css?family=Alegreya+Sans:100,300,400,500,700,800,\n",
       "    900,100italic,300italic,400italic,500italic,700italic,800italic,900italic' rel='stylesheet' type='text/css'>\n",
       "<link href='http://fonts.googleapis.com/css?family=Source+Code+Pro:300,400' rel='stylesheet' type='text/css'>\n",
       "<link href='http://fonts.googleapis.com/css?family=Crimson+Text' rel='stylesheet' type='text/css'>\n",
       "<link href='http://fonts.googleapis.com/css?family=Kameron' rel='stylesheet' type='text/css'>\n",
       "<link href='http://fonts.googleapis.com/css?family=Lato:200' rel='stylesheet' type='text/css'>\n",
       "<link href='http://fonts.googleapis.com/css?family=Lato:300' rel='stylesheet' type='text/css'>\n",
       "<link href='http://fonts.googleapis.com/css?family=Lato:400' rel='stylesheet' type='text/css'>\n",
       "<link href='http://fonts.googleapis.com/css?family=Source+Code+Pro' rel='stylesheet' type='text/css'>\n",
       "\n",
       "<style>\n",
       "\n",
       "@font-face {\n",
       "    font-family: \"Computer Modern\";\n",
       "    src: url('http://mirrors.ctan.org/fonts/cm-unicode/fonts/otf/cmunss.otf');\n",
       "}\n",
       "\n",
       "#notebook_panel { /* establish main background and color */\n",
       "    background: #fff;\n",
       "    color: #ff0000;\n",
       "}\n",
       "\n",
       "div.cell { /* set cell width */\n",
       "    width:800px;\n",
       "    margin-left:0%;\n",
       "    margin-right:auto;\n",
       "}\n",
       "\n",
       "div #notebook { /* centers the content */\n",
       "    background: #fff;\n",
       "    width: 1000px;\n",
       "    margin: auto;\n",
       "    padding-left: 1em;\n",
       "}\n",
       "\n",
       "#notebook li { /* more space between bullet points */\n",
       "    margin-top:0.8em;\n",
       "}\n",
       "\n",
       "/* draw border around running cells */\n",
       "div.cell.border-box-sizing.code_cell.running {\n",
       "    border: 3px solid #111;\n",
       "}\n",
       "\n",
       "/* Put a solid color box around each code cell and its output,\n",
       "     visually linking them together */\n",
       "div.cell.code_cell {\n",
       "    background-color: /*#fff*/ rgba(171,165,131,0.2);\n",
       "    border-radius: 10px; /* rounded borders */\n",
       "    padding: 1em;\n",
       "    margin-top: 1em;\n",
       "}\n",
       "\n",
       ".CodeMirror {\n",
       "    font-family: \"Source Code Pro\";\n",
       "    font-size: 90%;\n",
       "}\n",
       "\n",
       "div.text_cell_render code {\n",
       "    font-family: \"Source Code Pro\";\n",
       "    font-size: 90%;\n",
       "    color: red;\n",
       "}\n",
       "\n",
       "pre {\n",
       "    font-family: \"Source Code Pro\";\n",
       "    font-size: 90%;\n",
       "}\n",
       "\n",
       "div.text_cell_render { /* rendering of basic text cell */\n",
       "    font-family: 'Alegreya Sans', Computer Modern, \"Helvetica Neue\", Arial, Helvetica, sans-serif;\n",
       "    line-height: 135%;\n",
       "    font-size: 120%;\n",
       "    width:700px;\n",
       "    margin-left:auto;\n",
       "    margin-right:auto;\n",
       "}\n",
       "\n",
       ".text_cell_render h1 {\n",
       "    font-family: 'Alegreya Sans', sans-serif;\n",
       "    font-weight: 300;\n",
       "    font-size: 32pt;\n",
       "    line-height: 100%;\n",
       "    color:#CD2305;\n",
       "    margin-bottom: 0.4em;\n",
       "    margin-top: 0em;\n",
       "    display: block;\n",
       "}\n",
       "\n",
       "h2 {\n",
       "    font-family: 'Fenix', serif;\n",
       "}\n",
       "\n",
       "h3 {\n",
       "    font-family: 'Fenix', serif;\n",
       "    margin-top:12px;\n",
       "    margin-bottom: 3px;\n",
       "}\n",
       "\n",
       "h4 {\n",
       "    font-family: 'Fenix', serif;\n",
       "}\n",
       "\n",
       ".text_cell_render h5 {\n",
       "    font-family: 'Alegreya Sans', sans-serif;\n",
       "    font-weight: 100;\n",
       "    font-size: 16pt;\n",
       "    color: #CD2305;\n",
       "    font-style: italic;\n",
       "    margin-bottom: .5em;\n",
       "    margin-top: 0.5em;\n",
       "    display: block;\n",
       "}\n",
       "\n",
       ".text_cell_render h6 { /*use this for copyright note*/\n",
       "    font-family: 'Alegreya Sans', sans-serif;\n",
       "    font-weight: 400;\n",
       "    font-size: 10pt;\n",
       "    font-style: normal;\n",
       "    line-height: 120%;\n",
       "    margin-bottom: 1px;\n",
       "    margin-top: 1px;\n",
       "}\n",
       "\n",
       ".MathJax, .MathJax_Display  {\n",
       "    font-family: 'Alegreya Sans', sans-serif  !important;\n",
       "    font-size: 90%  !important;\n",
       "    vertical-align: 0px  !important;\n",
       "}\n",
       "\n",
       ".warning{\n",
       "    color: rgb( 240, 20, 20 )\n",
       "}\n",
       "\n",
       "</style>\n",
       "\n",
       "<script>\n",
       "MathJax.Hub.Config({\n",
       "    TeX: {\n",
       "        extensions: [\"AMSmath.js\"]\n",
       "    },\n",
       "    tex2jax: {\n",
       "        inlineMath: [ ['$','$'], [\"\\\\(\",\"\\\\)\"] ],\n",
       "        displayMath: [ ['$$','$$'], [\"\\\\[\",\"\\\\]\"] ],\n",
       "        processEscapes: true\n",
       "    },\n",
       "    displayAlign: 'center', // Change this to 'center' to center equations.\n",
       "    \"HTML-CSS\": {\n",
       "        styles: {'.MathJax_Display': {\"margin\": 4}}\n",
       "    }\n",
       "});\n",
       "</script>\n",
       "\n"
      ],
      "text/plain": [
       "<IPython.core.display.HTML object>"
      ]
     },
     "execution_count": 26,
     "metadata": {},
     "output_type": "execute_result"
    }
   ],
   "source": [
    "#Initializations\n",
    "from IPython.core.display import HTML\n",
    "HTML(open(\"../styles/custom.css\", \"r\").read())"
   ]
  },
  {
   "cell_type": "code",
   "execution_count": 27,
   "metadata": {
    "collapsed": true
   },
   "outputs": [],
   "source": [
    "%matplotlib inline\n",
    "\n",
    "import numpy as np\n",
    "import matplotlib.pyplot as plt\n",
    "\n",
    "import math\n",
    "pi = math.pi\n",
    "\n",
    "from pint import UnitRegistry\n",
    "ur = UnitRegistry()"
   ]
  },
  {
   "cell_type": "markdown",
   "metadata": {},
   "source": [
    "## Air Bag Landing Systems\n",
    "\n",
    "\n",
    "<div style=\"float: right;\">\n",
    "<img style=\"margin: 20px; width: 200px;\" src=\"../images/AirBag03.png\" />\n",
    "<br>\n",
    "<img style=\"margin: 20px; width: 200px;\" src=\"../images/AirBag04.jpg\"/>\n",
    "<br>\n",
    "<img style=\"width: 200px;\" src=\"../images/AirBag01.png\" />\n",
    "<br>\n",
    "<img style=\"width: 200px;\" src=\"../images/AirBag05.png\" />\n",
    "</div>\n",
    "Air bag landing systems have been adapted to a wide range of uses including space vehicle recovery, planetary exploration, humanitarian supply missions, and field delivery of military supplies. The purpose of the airbags is to dissipate the landing energy and thereby safely and securely deliver cargo to the ground.  A typical mission profile is shown in the following diagram (Figure 1 from Wen, et. al, 2010).\n",
    "\n",
    "The air bags are stored in a folded position underneath a payload platform. Upon exiting the aircraft, the parachute deploys and the air bags arefilled by ram air entering through a one-way vent. After initial contact with the ground, the lower vent closes and bag pressure builds due to the payload momentum. A membrane covering the upper vent bursts at a pre-determined pressure after which the airbag continues to collapse until the payload finally and safely touches down. [This](http://www.combatreform.org/T-21.htm) image shows deployment of Russian towed artillary piece.\n",
    "\n",
    "A typical airbag design for delivering military cargo is shown in these figures (courtesy of Duramold, Inc.). In this configuration, the airbags are constructed in pairs, and two pairs (a total of four airbags) are installed beneath each 2 feet by nine feet section of a segmented payload platform. A typical platorm (Type V platform manufactured by Airlift Technologies, Inc.) is shown in the accompanying figure.\n",
    "\n",
    "Typical operating parameters:\n",
    "\n",
    "* Parachute descent velocity: 28 ft/sec\n",
    "* Loading: 2000-4000 lbs per 2 foot segment, with a maximum loading of 250 lb/sq. ft. \n",
    "* Maximum g-force: 8g\n",
    "* No bouncing"
   ]
  },
  {
   "cell_type": "markdown",
   "metadata": {},
   "source": [
    "## Preliminary Analysis\n",
    "\n",
    "This is a preliminary analysis to obtain an approximate model for the design analysis of an air bag system. For this purpose, the assumptions include ideal operation of all components, an airbag system of constant cross-sectional area, non-elastic materials, and the ideal gas law."
   ]
  },
  {
   "cell_type": "markdown",
   "metadata": {},
   "source": [
    "### Air Bag Dimensions\n",
    "\n",
    "The dimensions of a typical airbag are taken from drawings provided by Duramold, Inc."
   ]
  },
  {
   "cell_type": "code",
   "execution_count": 28,
   "metadata": {
    "collapsed": false
   },
   "outputs": [
    {
     "name": "stdout",
     "output_type": "stream",
     "text": [
      "Airbag area =    0.657 meter ** 2\n",
      "Airbag volume =  600.480 liter\n"
     ]
    }
   ],
   "source": [
    "# specifications\n",
    "height = 36.0 * ur.inches\n",
    "diameter = 36.0 * ur.inches\n",
    "\n",
    "# calculated \n",
    "area = 0.25*pi*diameter**2\n",
    "volume = height*area\n",
    "\n",
    "print \"Airbag area = {0:8.3f}\".format(area.to(ur.m**2))\n",
    "print \"Airbag volume = {0:8.3f}\".format(volume.to(ur.L))"
   ]
  },
  {
   "cell_type": "markdown",
   "metadata": {},
   "source": [
    "### Initial Loading\n",
    "\n",
    "We'll assume the initial velocity is the standard descent velocity of U.S. Army parachutes (28 ft/sec), and the acceptable landing velocity is 5 ft/sec."
   ]
  },
  {
   "cell_type": "code",
   "execution_count": 29,
   "metadata": {
    "collapsed": false
   },
   "outputs": [
    {
     "name": "stdout",
     "output_type": "stream",
     "text": [
      "Payload Mass = 680.3886 kilogram\n",
      "Initial Descent Velocity =   8.5344 meter / second\n",
      "Final Descent Velocity =   1.5240 meter / second\n"
     ]
    }
   ],
   "source": [
    "# average loading per airbag\n",
    "m_payload = 1500 * ur.lbs\n",
    "v_initial = 28 * ur.feet/ur.sec\n",
    "v_final = 5 * ur.feet/ur.sec\n",
    "\n",
    "print \"Payload Mass = {0:8.4f}\".format(m_payload.to(ur.kg))\n",
    "print \"Initial Descent Velocity = {0:8.4f}\".format(v_initial.to(ur.m/ur.sec))\n",
    "print \"Final Descent Velocity = {0:8.4f}\".format(v_final.to(ur.m/ur.sec))"
   ]
  },
  {
   "cell_type": "markdown",
   "metadata": {},
   "source": [
    "### Energy Analysis\n",
    "\n",
    "We can get a preliminary estimate of the forces and accelerations by assuming uniform  negative acceleration of the payload. This spreads the landing event over a maximum period, and gives a lower bound on the peak g-force to be experienced by the payload. We'll neglect the force of the parachute."
   ]
  },
  {
   "cell_type": "code",
   "execution_count": 30,
   "metadata": {
    "collapsed": false
   },
   "outputs": [
    {
     "name": "stdout",
     "output_type": "stream",
     "text": [
      "Initial KE =   24.778 kilojoule\n",
      "  Final KE =    0.790 kilojoule\n"
     ]
    }
   ],
   "source": [
    "KE_initial = 0.5*m_payload*v_initial**2\n",
    "KE_final = 0.5*m_payload*v_final**2\n",
    "\n",
    "print \"Initial KE = {0:8.3f}\".format(KE_initial.to(ur.kJ))\n",
    "print \"  Final KE = {0:8.3f}\".format(KE_final.to(ur.kJ))"
   ]
  },
  {
   "cell_type": "code",
   "execution_count": 31,
   "metadata": {
    "collapsed": false
   },
   "outputs": [
    {
     "name": "stdout",
     "output_type": "stream",
     "text": [
      "Average Force =   26.234 kilonewton\n",
      "Average Force = 5897.610 force_pound\n",
      "\n",
      "Average Overpressure =   39.948 kilopascal\n",
      "Average Overpressure =    5.794 psi\n",
      "Average Acceleration =   38.557 meter / second ** 2\n",
      "Time =    0.182 second\n"
     ]
    }
   ],
   "source": [
    "# Average force\n",
    "force = (KE_initial-KE_final)/height\n",
    "print \"Average Force = {0:8.3f}\".format(force.to(ur.kN))\n",
    "print \"Average Force = {0:8.3f}\".format(force.to(ur.lbf))\n",
    "\n",
    "# Average pressure required\n",
    "pressure = force/area\n",
    "print \"\\nAverage Overpressure = {0:8.3f}\".format(pressure.to(ur.kPa))\n",
    "print \"Average Overpressure = {0:8.3f}\".format(pressure.to(ur.psi))\n",
    "\n",
    "# Average decleration\n",
    "acceleration = force/m_payload\n",
    "print \"Average Acceleration = {0:8.3f}\".format(acceleration.to(ur.m/ur.s**2))\n",
    "\n",
    "# Duration\n",
    "t = (v_initial-v_final)/acceleration\n",
    "print \"Time = {0:8.3f}\".format(t.to(ur.s))"
   ]
  },
  {
   "cell_type": "markdown",
   "metadata": {},
   "source": [
    "## Descent Phase"
   ]
  },
  {
   "cell_type": "markdown",
   "metadata": {},
   "source": [
    "Starting at rest, to achieve a velocity $v$ in free-fall with gravitational acceleration $g$ with no other significant drags, the period of time required is \n",
    "\n",
    "$$ t_f = \\frac{v}{g} $$ \n",
    "\n",
    "and the distance required is\n",
    "\n",
    "$$ y_f = \\frac{v^2}{2 g} $$"
   ]
  },
  {
   "cell_type": "code",
   "execution_count": 32,
   "metadata": {
    "collapsed": false
   },
   "outputs": [
    {
     "name": "stdout",
     "output_type": "stream",
     "text": [
      "Free Fall Time =   0.8700 second\n",
      "Free Fall Distance =   3.7123 meter\n",
      "Free Fall Distance =  12.1796 foot\n"
     ]
    }
   ],
   "source": [
    "gravity = 9.81 * ur.m/ur.sec**2\n",
    "\n",
    "tf = v_initial/gravity\n",
    "print \"Free Fall Time = {0:8.4f}\".format(tf.to(ur.sec))\n",
    "\n",
    "yf = (v_initial**2)/2.0/gravity\n",
    "print \"Free Fall Distance = {0:8.4f}\".format(yf.to(ur.m))\n",
    "print \"Free Fall Distance = {0:8.4f}\".format(yf.to(ur.ft))\n"
   ]
  },
  {
   "cell_type": "markdown",
   "metadata": {},
   "source": [
    "The parachute descent is slow enough that the air flow is well approximated as an incompressible flow. Then from Bernoulli's law, the stagnation pressure at the bottom vent of the air bag is\n",
    "\n",
    "$$ P_{total} = P_{ambient} + \\frac{1}{2}\\rho v^2$$\n",
    "\n",
    "For these low pressures the ideal gas law provides an accurate equation of state. Then\n",
    "\n",
    "$$ \\rho = MW_{air}\\frac{P_{ambient}}{R T_{ambient}} $$\n",
    "\n",
    "Assuming the air bag fills at the stagnation pressure and equilibrates with the ambient temperature, thn mass of air in the air bag at the moment it touches down is given by\n",
    "\n",
    "$$ m_{air} = MW_{air}\\frac{P_{total} V}{R T_{ambient}} $$"
   ]
  },
  {
   "cell_type": "code",
   "execution_count": 33,
   "metadata": {
    "collapsed": false
   },
   "outputs": [
    {
     "name": "stdout",
     "output_type": "stream",
     "text": [
      "Air density =    1.225 kilogram / meter ** 3\n"
     ]
    }
   ],
   "source": [
    "P_ambient = 1.0 * ur.atm\n",
    "T_ambient = ur.Quantity(15.0,ur.degC).to(ur.degK)\n",
    "\n",
    "MW = 28.966 * ur.g/ur.mol\n",
    "R = 8.314 * ur.J/ur.mol/ur.degK\n",
    "\n",
    "rho = MW*P_ambient/(R*T_ambient)\n",
    "rho.ito(ur.kg/ur.m**3)\n",
    "\n",
    "print \"Air density = {0:8.3f}\".format(rho)"
   ]
  },
  {
   "cell_type": "code",
   "execution_count": 34,
   "metadata": {
    "collapsed": false
   },
   "outputs": [
    {
     "name": "stdout",
     "output_type": "stream",
     "text": [
      "Stagnation Pressure = 44.61619 pascal\n"
     ]
    }
   ],
   "source": [
    "# for low velocities, assume essentially incompressible flow\n",
    "P_stagnation = 0.5*rho*v_initial**2\n",
    "P_stagnation.ito(ur.Pa)\n",
    "\n",
    "print \"Stagnation Pressure = {0:8.5f}\".format(P_stagnation)"
   ]
  },
  {
   "cell_type": "code",
   "execution_count": 35,
   "metadata": {
    "collapsed": false
   },
   "outputs": [
    {
     "name": "stdout",
     "output_type": "stream",
     "text": [
      "Total Pressure =  1.00044 atmosphere\n"
     ]
    }
   ],
   "source": [
    "P_initial = P_ambient + P_stagnation\n",
    "\n",
    "print \"Total Pressure = {0:8.5f}\".format(P_initial)"
   ]
  },
  {
   "cell_type": "code",
   "execution_count": 36,
   "metadata": {
    "collapsed": false
   },
   "outputs": [
    {
     "name": "stdout",
     "output_type": "stream",
     "text": [
      "Air mass =  735.980 gram\n"
     ]
    }
   ],
   "source": [
    "m_air = MW*P_initial*volume/(R*T_ambient)\n",
    "print \"Air mass = {0:8.3f}\".format(m_air.to(ur.g))"
   ]
  },
  {
   "cell_type": "markdown",
   "metadata": {},
   "source": [
    "## Airbag Dynamics without Vent\n",
    "\n",
    "Let $h$ denote the height of the cargo platform above the ground, and let $v$ denote velocity. At the moment the bottom of the air bag touches down, the dynamics become\n",
    "\n",
    "\\begin{align*}\n",
    "\\frac{dh}{dt} & = v \\\\\n",
    "\\frac{dv}{dt} & = \\frac{(P_{bag}-P_{ambient})A_{bag}}{m_{payload}} - g\n",
    "\\end{align*}\n",
    "\n",
    "where\n",
    "\n",
    "\\begin{align*}\n",
    "h(0) & = H_{bag} \\\\\n",
    "v(0) & = -v_{parachute}\n",
    "\\end{align*}\n",
    "\n",
    "$v_{parachute}$ is descent velocity from the parachute deployment phase, and $H_{bag}$ is the height of the bag when fully extended. We assume the parachute drag is immediately released upon touchdown.\n",
    "\n",
    "The bottom inlet vent immediately closes on touchdown. The air mass in the bag is constant until the upper vent membrane bursts. For this first analysis, we'll assume the vent membrane remains intact.\n",
    "\n",
    "$$\n",
    "\\frac{dE}{dt}=\\dot{Q}+\\dot{W}\n",
    "$$\n",
    "\n",
    "where $\\dot{Q}$ is the heat transferred to the system from the surroundings and $\\dot{W}$ is the work done on the system. The entire compression phase is only a few hundred milliseconds, so to a good approximation the adiabatic assumption $\\dot{Q} = 0$ holds.\n",
    "\n",
    "The specific energy of an ideal gas is a function of temperature alone, so\n",
    "\n",
    "\\begin{aligned}\n",
    "\\frac{dE}{dt} & =\\frac{d(n_{air}\\hat{U})}{dt}\\\\\n",
    " & =n_{air}\\frac{d\\hat{U}}{dt}\\\\\n",
    " & =n_{air}\\frac{\\partial\\hat{U}}{\\partial T}\\frac{dT}{dt}\\\\\n",
    " & =n_{air}C_{v}\\frac{dT}{dt}\n",
    "\\end{aligned}\n",
    "\n",
    "\n",
    "On the work side of the equation, the rate of work done on the system ($\\dot{W}$)\n",
    "\n",
    "\\begin{aligned}\n",
    "\\dot{W} & = - P \\frac{dV}{dt}\n",
    "\\end{aligned}\n",
    "\n",
    "Giving an energy balance\n",
    "\n",
    "$$ n_{air}C_{v}\\frac{dT}{dt} = -P\\frac{dV}{dt} $$\n",
    "\n",
    "Since it is pressure that appears in other parts of the model, we'd like to have the left side of this equation in terms of pressure. Substituting the ideal gas and taking a total derivative of temperature gives\n",
    "\n",
    "$$ \\frac{C_{v}}{R}\\left(V \\frac{dP}{dt} + P\\frac{dV}{dt}\\right) = -P\\frac{dV}{dt} $$\n",
    "\n",
    "or\n",
    "\n",
    "$$ \\frac{1}{P} \\frac{dP}{dt} = -\\left(1+\\frac{R}{C_v}\\right) \\frac{1}{V} \\frac{dV}{dt} $$\n",
    "\n",
    "For an ideal gas, $C_p = R + C_v$. Rearranging we get\n",
    "\n",
    "$$ \\frac{dP}{dt} = - \\frac{P}{V} \\left(\\frac{C_p}{C_v}\\right)\\frac{dV}{dt}$$\n",
    "\n",
    "Putting this all together for a constant area ($V = hA$) leaves a system of three differential equations with well-defined initial conditions for the initial compression phase of the air bag.\n"
   ]
  },
  {
   "cell_type": "code",
   "execution_count": 37,
   "metadata": {
    "collapsed": false
   },
   "outputs": [],
   "source": [
    "R = 8.314 * ur.J/(ur.mol*ur.degK)\n",
    "MW = 28.966 * ur.grams/ur.mol\n",
    "\n",
    "P_ambient = 1.0 * ur.atm"
   ]
  },
  {
   "cell_type": "markdown",
   "metadata": {},
   "source": [
    "\\begin{align*}\n",
    "\\frac{dh}{dt} & = v \\\\\n",
    "\\frac{dv}{dt} & = \\frac{(P - P_{ambient})A}{m_{payload}} - g \\\\\n",
    "\\frac{dP}{dt} & = -\\frac{P}{h} \\left(\\frac{C_p}{C_v}\\right)v\n",
    "\\end{align*}\n",
    "\n",
    "where\n",
    "\n",
    "\\begin{align*}\n",
    "h(0) & = H_{bag} \\\\\n",
    "v(0) & = -v_{parachute} \\\\\n",
    "P(0) & = P_{total}\n",
    "\\end{align*}"
   ]
  },
  {
   "cell_type": "code",
   "execution_count": 38,
   "metadata": {
    "collapsed": false,
    "scrolled": false
   },
   "outputs": [
    {
     "name": "stdout",
     "output_type": "stream",
     "text": [
      "gravity =   9.8100 meter / second ** 2\n",
      "k =   1.4000\n",
      "area =   0.6567 meter ** 2\n",
      "m_payload = 680.3886 kilogram\n",
      "P_ambient = 101325.0000 pascal\n",
      "\n",
      "Initial Conditions for Initial Compression Phase\n",
      "h_ic =   0.9144\n",
      "v_ic =  -8.5344\n",
      "P_ic = 101369.6\n"
     ]
    }
   ],
   "source": [
    "import numpy as np\n",
    "import matplotlib.pyplot as plt\n",
    "from scipy.integrate import odeint\n",
    "\n",
    "# Convert all parameters to base units \n",
    "gravity = 9.81 * ur.m/ur.sec**2\n",
    "k = 1.4\n",
    "area.ito(ur.m**2)\n",
    "m_payload.ito(ur.kg)\n",
    "P_ambient.ito(ur.Pa)\n",
    "\n",
    "# Verify parameter values, some calculated in earlier cells\n",
    "\n",
    "print \"gravity = {0:8.4f}\".format(gravity)\n",
    "print \"k = {0:8.4f}\".format(k)\n",
    "print \"area = {0:8.4f}\".format(area)\n",
    "print \"m_payload = {0:8.4f}\".format(m_payload)\n",
    "print \"P_ambient = {0:8.4f}\".format(P_ambient)\n",
    "\n",
    "# Set and verify initial conditions\n",
    "\n",
    "h_ic = (height.to(ur.m)).magnitude\n",
    "v_ic = (-v_initial.to(ur.m/ur.sec)).magnitude\n",
    "P_ic = (P_initial.to(ur.Pa)).magnitude\n",
    "\n",
    "x0 = [h_ic, v_ic, P_ic]\n",
    "\n",
    "print \"\\nInitial Conditions for Initial Compression Phase\"\n",
    "print \"h_ic = {0:8.4f}\".format(h_ic)\n",
    "print \"v_ic = {0:8.4f}\".format(v_ic)\n",
    "print \"P_ic = {0:8.1f}\".format(P_ic)\n",
    "\n",
    "def phase1(x,t):\n",
    "    h,v,P = x\n",
    "    dhdt = v\n",
    "    if h > h_ic:\n",
    "        dvdt = -gravity.magnitude\n",
    "        dPdt = 0\n",
    "    else:\n",
    "        dvdt = -gravity.magnitude + \\\n",
    "            (P-P_ambient.magnitude)*area.magnitude/m_payload.magnitude\n",
    "        dPdt = -P*k*dhdt/h\n",
    "    return np.array([dhdt,dvdt,dPdt])\n",
    "\n",
    "t = np.linspace(0,3.00,1000)\n",
    "soln = odeint(phase1,x0,t);\n",
    "\n",
    "h = soln[:,0] * ur.m\n",
    "v = soln[:,1] * ur.m/ur.sec\n",
    "P = soln[:,2] * ur.Pa\n",
    "\n",
    "gForce = (P - P_ambient)*area/m_payload/gravity\n",
    "\n",
    "Pr = P/P_initial.to(ur.Pa)\n",
    "Tr = Pr**(2.0/7.0)\n",
    "\n",
    "T = Tr*T_ambient"
   ]
  },
  {
   "cell_type": "code",
   "execution_count": 39,
   "metadata": {
    "collapsed": false,
    "scrolled": false
   },
   "outputs": [
    {
     "data": {
      "text/plain": [
       "<matplotlib.text.Text at 0x10ac38f90>"
      ]
     },
     "execution_count": 39,
     "metadata": {},
     "output_type": "execute_result"
    },
    {
     "data": {
      "image/png": "[encoded data removed]",
      "text/plain": [
       "<matplotlib.figure.Figure at 0x109539e90>"
      ]
     },
     "metadata": {},
     "output_type": "display_data"
    },
    {
     "data": {
      "image/png": "[encoded data removed]",
      "text/plain": [
       "<matplotlib.figure.Figure at 0x109821c10>"
      ]
     },
     "metadata": {},
     "output_type": "display_data"
    },
    {
     "data": {
      "image/png": "[encoded data removed]",
      "text/plain": [
       "<matplotlib.figure.Figure at 0x10ab27190>"
      ]
     },
     "metadata": {},
     "output_type": "display_data"
    },
    {
     "data": {
      "image/png": "[encoded data removed]",
      "text/plain": [
       "<matplotlib.figure.Figure at 0x10ab91290>"
      ]
     },
     "metadata": {},
     "output_type": "display_data"
    },
    {
     "data": {
      "image/png": "[encoded data removed]",
      "text/plain": [
       "<matplotlib.figure.Figure at 0x10ac14b10>"
      ]
     },
     "metadata": {},
     "output_type": "display_data"
    }
   ],
   "source": [
    "plt.figure(figsize=(10,4))\n",
    "plt.plot(t,h,t,v)\n",
    "plt.title('Height')\n",
    "plt.ylabel('meters')\n",
    "plt.legend(['Height','Velocity'])\n",
    "\n",
    "plt.figure(figsize=(10,4))\n",
    "plt.plot(t,v)\n",
    "plt.title('Velocity')\n",
    "plt.ylabel('meters/sec')\n",
    "\n",
    "plt.figure(figsize=(10,4))\n",
    "plt.plot(t,gForce)\n",
    "plt.title('Braking G Force')\n",
    "plt.ylabel(\"G's\")\n",
    "\n",
    "plt.figure(figsize=(10,4))\n",
    "plt.plot(t,P.to(ur.kPa))\n",
    "plt.title('Air Bag Pressure (absolute)')\n",
    "plt.ylabel('kiloPascals')\n",
    "\n",
    "plt.figure(figsize=(10,4))\n",
    "plt.plot(t,T.to(ur.degC))\n",
    "plt.title('Air Bag Temperature')\n",
    "plt.ylabel('deg C')"
   ]
  },
  {
   "cell_type": "markdown",
   "metadata": {},
   "source": [
    "## Venting Air Bag\n",
    "\n",
    "### Mass Balance\n",
    "\n",
    "Venting the air bag provides a mechanism to release accumulated energy. The mass balance is given by \n",
    "\n",
    "$$\\frac{d\\left(\\rho V\\right)}{dt} = - C_DA_o \\rho_{o} q_{o}$$\n",
    "\n",
    "where $\\rho_o$ and $q_o$ refer to the density and velocity of the exit gas at the orifice conditions, and where $A_o$ is the area of the orifice. For unchoked flow, the density and pressure at the orifice are equal to ambient conditions, so $\\rho_o  = \\rho_a$.\n",
    "\n",
    "The air bag is compressed by the rapid deacceleration of the payload. From an adiabatic energy balance on an ideal gas, the pressure and density of the remaining air inside the bag increase follow the relationship\n",
    "\n",
    "$$\\frac{\\rho}{\\rho_a} = \\left(\\frac{P}{P_a}\\right)^{\\frac{1}{\\gamma}}$$\n",
    "\n",
    "where the subscript $a$ refers to ambient conditions. Applying the chain rule\n",
    "\n",
    "$$\\rho\\frac{dV}{dt} + V\\frac{d\\rho}{dt} = - C_DA_o \\rho_{a} q_{o}$$\n",
    "\n",
    "$$\\frac{V\\rho_a}{\\gamma P_a}\\left(\\frac{P}{P_a}\\right)^{\\frac{1}{\\gamma}-1}\\frac{dP}{dt}\n",
    "= - C_DA_o \\rho_a q_o -  \\rho_a\\ \\left(\\frac{P}{P_a}\\right)^{\\frac{1}{\\gamma}} \\frac{dV}{dt}$$\n",
    "\n",
    "Cancelling terms\n",
    "\n",
    "$$\\frac{V}{\\gamma P_a}\\left(\\frac{P}{P_a}\\right)^{\\frac{1}{\\gamma}-1}\\frac{dP}{dt}\n",
    "= - C_DA_o q_o - \\left(\\frac{P}{P_a}\\right)^{\\frac{1}{\\gamma}} \\frac{dV}{dt}$$\n",
    "\n",
    "$$\\frac{V}{\\gamma P_a}\\left(\\frac{P}{P_a}\\right)^{\\frac{1}{\\gamma}}\\frac{P_a}{P}\\frac{dP}{dt}\n",
    "= - C_DA_o q_o - \\left(\\frac{P}{P_a}\\right)^{\\frac{1}{\\gamma}} \\frac{dV}{dt}$$\n",
    "\n",
    "Leaving \n",
    "\n",
    "$$\\frac{1}{P}\\frac{dP}{dt}\n",
    "= - \\frac{\\gamma C_DA_o q_o}{V \\left(\\frac{P}{P_a}\\right)^{\\frac{1}{\\gamma}}} - \\frac{\\gamma}{V}\\frac{dV}{dt}$$\n",
    "\n",
    "### Bernoulli's Equation\n",
    "\n",
    "To a close approximation, energy balances on the streamlines from the interior of the airbag satisfy Bernoulli's law\n",
    "\n",
    "$$\\frac{\\gamma}{\\gamma-1} \\frac{P_o}{\\rho_o} + \\frac{q_o^2}{2} + gz_o = \\mbox{constant}$$\n",
    "\n",
    "For unchoked flow, $P_o = P_a$ and $\\rho_o = \\rho_a$ at the orifice. Assuming a vent with a small cross-sectional area compared to the bag dimensions, and neglecting minor elevation effects,\n",
    "\n",
    "$$\\frac{q_o^2}{2} + \\frac{\\gamma}{\\gamma-1} \\frac{P_a}{\\rho_a} = \\frac{\\gamma}{\\gamma-1} \\frac{P}{\\rho} $$\n",
    "\n",
    "so solving for $q_o$ and using the adiabatic relationship one more time\n",
    "\n",
    "$$q_o =\\sqrt{\\frac{2\\gamma}{\\gamma-1}\\frac{P_a}{\\rho_a}\\left[\\left(\\frac{P}{P_a}\\right)^{1-\\frac{1}{\\gamma}} - 1\\right]}$$\n",
    "\n",
    "Using the ideal gas relationship\n",
    "\n",
    "$$ \\frac{P_a}{\\rho_a} = \\frac{R T_a}{MW}$$\n",
    "\n",
    "leaves an expression for orifice velocity\n",
    "\n",
    "$$q_o =\\sqrt{\\frac{2\\gamma}{\\gamma-1}\\frac{R T_a}{MW}\\left[\\left(\\frac{P}{P_a}\\right)^{1-\\frac{1}{\\gamma}} - 1\\right]}$$\n",
    "\n"
   ]
  },
  {
   "cell_type": "code",
   "execution_count": 40,
   "metadata": {
    "collapsed": false
   },
   "outputs": [
    {
     "name": "stdout",
     "output_type": "stream",
     "text": [
      "gravity =   9.8100 meter / second ** 2\n",
      "k =   1.4000\n",
      "area =   0.6567 meter ** 2\n",
      "m_payload = 680.3886 kilogram\n",
      "P_ambient = 101325.0000 pascal\n",
      "T_ambient = 288.1500 kelvin\n",
      "\n",
      "Initial Conditions for Initial Compression Phase\n",
      "h_ic =   0.9144\n",
      "v_ic =  -8.5344\n",
      "P_ic = 101369.6\n"
     ]
    },
    {
     "data": {
      "text/plain": [
       "<matplotlib.text.Text at 0x108ffbc50>"
      ]
     },
     "execution_count": 40,
     "metadata": {},
     "output_type": "execute_result"
    },
    {
     "data": {
      "image/png": "[encoded data removed]",
      "text/plain": [
       "<matplotlib.figure.Figure at 0x10ade24d0>"
      ]
     },
     "metadata": {},
     "output_type": "display_data"
    },
    {
     "data": {
      "image/png": "[encoded data removed]",
      "text/plain": [
       "<matplotlib.figure.Figure at 0x10aadc290>"
      ]
     },
     "metadata": {},
     "output_type": "display_data"
    },
    {
     "data": {
      "image/png": "[encoded data removed]",
      "text/plain": [
       "<matplotlib.figure.Figure at 0x10acde6d0>"
      ]
     },
     "metadata": {},
     "output_type": "display_data"
    },
    {
     "data": {
      "image/png": "[encoded data removed]",
      "text/plain": [
       "<matplotlib.figure.Figure at 0x109383410>"
      ]
     },
     "metadata": {},
     "output_type": "display_data"
    },
    {
     "data": {
      "image/png": "[encoded data removed]",
      "text/plain": [
       "<matplotlib.figure.Figure at 0x1087b5fd0>"
      ]
     },
     "metadata": {},
     "output_type": "display_data"
    }
   ],
   "source": [
    "import numpy as np\n",
    "import matplotlib.pyplot as plt\n",
    "from scipy.integrate import odeint\n",
    "\n",
    "# orifice parameters\n",
    "\n",
    "Cd = 0.72\n",
    "Ao = 20*8 * ur.cm**2\n",
    "\n",
    "# air parameters\n",
    "k = 1.4\n",
    "gamma = k\n",
    "MW = 0.028966 * ur.kg/ur.mol\n",
    "\n",
    "# Convert all parameters to base units \n",
    "gravity = 9.81 * ur.m/ur.sec**2\n",
    "k = 1.4\n",
    "area.ito(ur.m**2)\n",
    "m_payload.ito(ur.kg)\n",
    "P_ambient.ito(ur.Pa)\n",
    "T_ambient.ito(ur.degK)\n",
    "Ao.ito(ur.m**2)\n",
    "\n",
    "# Verify parameter values, some of which were calculated above\n",
    "\n",
    "print \"gravity = {0:8.4f}\".format(gravity)\n",
    "print \"k = {0:8.4f}\".format(k)\n",
    "print \"area = {0:8.4f}\".format(area)\n",
    "print \"m_payload = {0:8.4f}\".format(m_payload)\n",
    "print \"P_ambient = {0:8.4f}\".format(P_ambient)\n",
    "print \"T_ambient = {0:8.4f}\".format(T_ambient)\n",
    "\n",
    "# Set and verify initial conditions\n",
    "\n",
    "h_ic = (height.to(ur.m)).magnitude\n",
    "v_ic = (-v_initial.to(ur.m/ur.sec)).magnitude\n",
    "P_ic = (P_initial.to(ur.Pa)).magnitude\n",
    "\n",
    "x0 = [h_ic, v_ic, P_ic]\n",
    "\n",
    "print \"\\nInitial Conditions for Initial Compression Phase\"\n",
    "print \"h_ic = {0:8.4f}\".format(h_ic)\n",
    "print \"v_ic = {0:8.4f}\".format(v_ic)\n",
    "print \"P_ic = {0:8.1f}\".format(P_ic)\n",
    "\n",
    "def phase1(x,t):\n",
    "    h = x[0]\n",
    "    v = x[1]\n",
    "    P = x[2]\n",
    "    pr = P/P_ambient.magnitude\n",
    "    cr = ((gamma+1)/2.0)**(gamma/(gamma-1.0))\n",
    "    #if pr > cr:\n",
    "        #q = np.sqrt(gamma*R.magnitude*T_ambient.magnitude/MW.magnitude)\n",
    "        #q = q*np.sqrt((2/(gamma+1))**((gamma+1)/(gamma-1)))\n",
    "    # else:\n",
    "        #q = np.sqrt(2*(gamma/(gamma-1))*(R.magnitude*T_ambient.magnitude/MW.magnitude))\n",
    "        #q = q*np.sqrt(pr**(1.0 - (1.0/gamma))-1.0)\n",
    "    if pr > cr:\n",
    "        pr = cr\n",
    "    q = np.sqrt(2*(gamma/(gamma-1))*(R.magnitude*T_ambient.magnitude/MW.magnitude))\n",
    "    q = q*np.sqrt(pr**(1.0 - (1.0/gamma))-1.0)\n",
    "    dhdt = v\n",
    "    if h > h_ic:\n",
    "        dvdt = -gravity.magnitude\n",
    "        dPdt = 0\n",
    "   # elif h <= 0.01:\n",
    "   #     dhdt = 0\n",
    "    #    dvdt = 0\n",
    "    #    dPdt = 0\n",
    "    else:\n",
    "        dvdt = -gravity.magnitude + \\\n",
    "            (P-P_ambient.magnitude)*area.magnitude/m_payload.magnitude\n",
    "        dPdt = -P*k*dhdt/h - P*gamma*Cd*Ao.magnitude*q/(h*area.magnitude*pr**(1.0/gamma))\n",
    "    return np.array([dhdt,dvdt,dPdt])\n",
    "\n",
    "t = np.linspace(0,0.3,1000)\n",
    "soln = odeint(phase1,x0,t);\n",
    "\n",
    "h = soln[:,0] * ur.m\n",
    "v = soln[:,1] * ur.m/ur.sec\n",
    "P = soln[:,2] * ur.Pa\n",
    "\n",
    "gForce = (P - P_ambient)*area/m_payload/gravity\n",
    "\n",
    "Pr = P/P_initial.to(ur.Pa)\n",
    "Tr = Pr**(2.0/7.0)\n",
    "\n",
    "T = Tr*T_ambient\n",
    "\n",
    "plt.figure(figsize=(10,4))\n",
    "plt.plot(t,h,t,v)\n",
    "plt.title('Height')\n",
    "plt.ylabel('meters')\n",
    "plt.legend(['Height','Velocity'])\n",
    "\n",
    "plt.figure(figsize=(10,4))\n",
    "plt.plot(t,v)\n",
    "plt.title('Velocity')\n",
    "plt.ylabel('meters/sec')\n",
    "\n",
    "plt.figure(figsize=(10,4))\n",
    "plt.plot(t,gForce)\n",
    "plt.title('Braking G Force')\n",
    "plt.ylabel(\"G's\")\n",
    "\n",
    "plt.figure(figsize=(10,4))\n",
    "plt.plot(t,P.to(ur.kPa))\n",
    "plt.title('Air Bag Pressure (absolute)')\n",
    "plt.ylabel('kiloPascals')\n",
    "\n",
    "plt.figure(figsize=(10,4))\n",
    "plt.plot(t,T.to(ur.degC))\n",
    "plt.title('Air Bag Temperature')\n",
    "plt.ylabel('deg C')"
   ]
  },
  {
   "cell_type": "markdown",
   "metadata": {},
   "source": [
    "## Crush Zone Dynamics\n",
    "\n",
    "We'll assume that a 3 inch crush zone of cardboard honeycomb or other structure is the final cushion for the falling mass. We'll further assume the maximum tolerable de-acceleration rate is 8g. From this data we can determine the maximum permissable velocity of the payload at completion of the air bag phase."
   ]
  },
  {
   "cell_type": "code",
   "execution_count": 41,
   "metadata": {
    "collapsed": false
   },
   "outputs": [
    {
     "ename": "NameError",
     "evalue": "name 'g' is not defined",
     "output_type": "error",
     "traceback": [
      "\u001b[0;31m---------------------------------------------------------------------------\u001b[0m",
      "\u001b[0;31mNameError\u001b[0m                                 Traceback (most recent call last)",
      "\u001b[0;32m<ipython-input-41-a695337b1fec>\u001b[0m in \u001b[0;36m<module>\u001b[0;34m()\u001b[0m\n\u001b[0;32m----> 1\u001b[0;31m \u001b[0mmax_accel\u001b[0m \u001b[0;34m=\u001b[0m \u001b[0;36m8\u001b[0m\u001b[0;34m*\u001b[0m\u001b[0mg\u001b[0m\u001b[0;34m\u001b[0m\u001b[0m\n\u001b[0m\u001b[1;32m      2\u001b[0m \u001b[0mh_crush\u001b[0m \u001b[0;34m=\u001b[0m \u001b[0;36m3.0\u001b[0m \u001b[0;34m*\u001b[0m \u001b[0mur\u001b[0m\u001b[0;34m.\u001b[0m\u001b[0minches\u001b[0m\u001b[0;34m\u001b[0m\u001b[0m\n\u001b[1;32m      3\u001b[0m \u001b[0;34m\u001b[0m\u001b[0m\n\u001b[1;32m      4\u001b[0m \u001b[0mt_crush\u001b[0m \u001b[0;34m=\u001b[0m \u001b[0mnp\u001b[0m\u001b[0;34m.\u001b[0m\u001b[0msqrt\u001b[0m\u001b[0;34m(\u001b[0m\u001b[0;36m2.0\u001b[0m\u001b[0;34m*\u001b[0m\u001b[0mh_crush\u001b[0m\u001b[0;34m/\u001b[0m\u001b[0mmax_accel\u001b[0m\u001b[0;34m)\u001b[0m\u001b[0;34m\u001b[0m\u001b[0m\n\u001b[1;32m      5\u001b[0m \u001b[0;32mprint\u001b[0m \u001b[0;34m\"Crush Zone Time = {0:8.4f}\"\u001b[0m\u001b[0;34m.\u001b[0m\u001b[0mformat\u001b[0m\u001b[0;34m(\u001b[0m\u001b[0mt_crush\u001b[0m\u001b[0;34m.\u001b[0m\u001b[0mto_base_units\u001b[0m\u001b[0;34m(\u001b[0m\u001b[0;34m)\u001b[0m\u001b[0;34m)\u001b[0m\u001b[0;34m\u001b[0m\u001b[0m\n",
      "\u001b[0;31mNameError\u001b[0m: name 'g' is not defined"
     ]
    }
   ],
   "source": [
    "max_accel = 8*g\n",
    "h_crush = 3.0 * ur.inches\n",
    "\n",
    "t_crush = np.sqrt(2.0*h_crush/max_accel)\n",
    "print \"Crush Zone Time = {0:8.4f}\".format(t_crush.to_base_units())\n",
    "\n",
    "v_crush = max_accel*t_crush\n",
    "print \"Crush Zone Velocity = {0:8.4f}\".format(v_crush.to_base_units())"
   ]
  }
 ],
 "metadata": {
  "kernelspec": {
   "display_name": "Python 2",
   "language": "python",
   "name": "python2"
  },
  "language_info": {
   "codemirror_mode": {
    "name": "ipython",
    "version": 2
   },
   "file_extension": ".py",
   "mimetype": "text/x-python",
   "name": "python",
   "nbconvert_exporter": "python",
   "pygments_lexer": "ipython2",
   "version": "2.7.9"
  }
 },
 "nbformat": 4,
 "nbformat_minor": 0
}
