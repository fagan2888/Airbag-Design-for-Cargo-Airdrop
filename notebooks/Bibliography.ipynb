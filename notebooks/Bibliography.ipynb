{
 "cells": [
  {
   "cell_type": "markdown",
   "metadata": {},
   "source": [
    "######The latest version of this IPython notebook is available at [https://github.com/jckantor/Airbag-Design-for-Cargo-Airdrop](https://github.com/jckantor/Airbag-Design-for-Cargo-Airdrop) under the [MIT License](https://github.com/jckantor/Airbag-Design-for-Cargo-Airdrop/blob/master/LICENSE).\n",
    "\n",
    "J.C. Kantor (Kantor.1@nd.edu)"
   ]
  },
  {
   "cell_type": "markdown",
   "metadata": {
    "slideshow": {
     "slide_type": "slide"
    }
   },
   "source": [
    "# Bibliography"
   ]
  },
  {
   "cell_type": "markdown",
   "metadata": {},
   "source": [
    "Alizadeh, M., Sedaghat, A., & Kargar, E. (2014). [_Shape and Orifice Optimization of Airbag Systems for UAV Parachute Landing._](https://www.researchgate.net/publication/267324932_Shape_and_Orifice_Optimization_of_Airbag_Systems_for_UAV_Parachute_Landing) International Journal of Aeronautical and Space Sciences, 15(3), 335-343."
   ]
  },
  {
   "cell_type": "markdown",
   "metadata": {},
   "source": [
    "Benney, R. J., Krainski, W. J., Onckelinx, P., Delwarde, C., Mueller, L., & Vallance, M. (2006). [_NATO Precision Airdrop Initiatives and Modeling and Simulation Needs._](http://oai.dtic.mil/oai/oai?verb=getRecord&metadataPrefix=html&identifier=ADA476394) ARMY NATICK SOLDIER CENTER MA."
   ]
  },
  {
   "cell_type": "markdown",
   "metadata": {
    "collapsed": true
   },
   "source": [
    "Browning, A. C. (1964). [_A theoretical approach to air bag shock absorber design._](http://naca.central.cranfield.ac.uk/reports/arc/cp/0751.pdf) HM Stationery Office."
   ]
  },
  {
   "cell_type": "markdown",
   "metadata": {},
   "source": [
    "Do, S. (2011). [_An airbag-based crew impact attenuation system for the Orion crew exploration vehicle_](http://dspace.mit.edu.proxy.library.nd.edu/handle/1721.1/63038) (Doctoral dissertation, Massachusetts Institute of Technology)."
   ]
  },
  {
   "cell_type": "markdown",
   "metadata": {},
   "source": [
    "Do, S., & de Weck, O. (2012). [_A personal airbag system for the Orion Crew Exploration Vehicle._](http://www.sciencedirect.com.proxy.library.nd.edu/science/article/pii/S0094576512002603) Acta Astronautica, 81(1), 239-255."
   ]
  },
  {
   "cell_type": "markdown",
   "metadata": {},
   "source": [
    "Hirth, A., Haufe, A., & Olovsson, L. (2007). _Airbag simulation with LS-DYNA past-present-future._ presentation in, (6)."
   ]
  },
  {
   "cell_type": "markdown",
   "metadata": {},
   "source": [
    "Lee, C. K. (1988). [_Performance of a Single Balloon-Skirt Airbag in Vertical Drops (No. NATICK/TR-88/059)._](http://oai.dtic.mil/oai/oai?verb=getRecord&metadataPrefix=html&identifier=ADA198240) ARMY NATICK RESEARCH DEVELOPMENT AND ENGINEERING CENTER MA."
   ]
  },
  {
   "cell_type": "markdown",
   "metadata": {},
   "source": [
    "Lee, C. K. (1992). [_Methods for improved airbag performance for airdrop (No. NATICK/TR-93/002)._](http://oai.dtic.mil/oai/oai?verb=getRecord&metadataPrefix=html&identifier=ADA257953) ARMY NATICK RESEARCH DEVELOPMENT AND ENGINEERING CENTER MA."
   ]
  },
  {
   "cell_type": "markdown",
   "metadata": {},
   "source": [
    "Nykvist, W. (1981). [_Balloon-Skirt Airbags as Airdrop Shock Absorbers: Performance in Vertical Drops (No. NATICK/TR-82/026)._](http://oai.dtic.mil/oai/oai?verb=getRecord&metadataPrefix=html&identifier=ADA118228) ARMY NATICK RESEARCH AND DEVELOPMENT CENTER MA."
   ]
  },
  {
   "cell_type": "markdown",
   "metadata": {},
   "source": [
    "Potter, J. A., & Giles, L. (2006). [_The United Kingdom's Air Drop Capability._](http://oai.dtic.mil/oai/oai?verb=getRecord&metadataPrefix=html&identifier=ADA476374) MINISTRY OF DEFENCE LONDON (UNITED KINGDOM)."
   ]
  },
  {
   "cell_type": "markdown",
   "metadata": {},
   "source": [
    "Pua, Q., Zhena, Y., & Ruib, S. (2015). [_Research on Airbags Landing System for Airborne Vehicle Airdrop._](http://www.joics.com/publishedpapers/2015_12_5_2035_2042.pdf) Journal of Information and Computational Sciences, 12(5), 2035-2042."
   ]
  },
  {
   "cell_type": "markdown",
   "metadata": {},
   "source": [
    "Rosato, N. P. (1999). [_Passive airbag vent control valve study (No. NATICK-TR-00-010)._](http://oai.dtic.mil/oai/oai?verb=getRecord&metadataPrefix=html&identifier=ADA372164) ARMY NATICK RESEARCH DEVELOPMENT AND ENGINEERING CENTER MA."
   ]
  },
  {
   "cell_type": "markdown",
   "metadata": {},
   "source": [
    "Ross, E. W. (1987). [_Control Systems for Platform Landings Cushioned by Air Bags (No. NATICK/TR-88/021)._](http://oai.dtic.mil/oai/oai?verb=getRecord&metadataPrefix=html&identifier=ADA196154) ARMY NATICK RESEARCH DEVELOPMENT AND ENGINEERING CENTER MA."
   ]
  },
  {
   "cell_type": "markdown",
   "metadata": {},
   "source": [
    "Slade, R., Kiley, A., & Toropov, V. (2007). [_Design Optimization and Probabilistic Assessment of a Vented Airbag Landing System for the ExoMars Space Mission._](https://www.researchgate.net/publication/228692819_Design_Optimization_and_Probabilistic_Assessment_of_a_Vented_Airbag_Landing_System_for_the_ExoMars_Space_Mission)"
   ]
  },
  {
   "cell_type": "markdown",
   "metadata": {},
   "source": [
    "Taylor, A. P., Benney, R., & Bagdonovich, B. (2001). [_Investigation of the application of airbag technology to provide a soft landing capability for military heavy airdrop._](http://nsrdec.natick.army.mil/LIBRARY/00-09/R01-22.pdf) AIAA, 2046(2001), 284-292."
   ]
  },
  {
   "cell_type": "markdown",
   "metadata": {},
   "source": [
    "Wang, H. Y., Hong, H. J., Li, J. Y., & Rui, Q. (2013). [_Study on Multi-objective Optimization of Airbag Landing Attenuation System for Heavy Airdrop._](http://www.sciencedirect.com.proxy.library.nd.edu/science/article/pii/S221491471300055X) Defence Technology, 9(4), 237-241."
   ]
  },
  {
   "cell_type": "markdown",
   "metadata": {},
   "source": [
    "Wang, H., Hong, H., Hao, G., Deng, H., Rui, Q., & Li, J. (2014). [_Characteristic verification and parameter optimization of airbags cushion system for airborne vehicle._](http://link.springer.com.proxy.library.nd.edu/article/10.3901/CJME.2014.01.050) Chinese Journal of Mechanical Engineering, 27(1), 50-57."
   ]
  },
  {
   "cell_type": "markdown",
   "metadata": {},
   "source": [
    "Wen, J., Li, B., & Yang, Z. (2010). [_Study on cushioning characteristics of soft landing airbag with elastic fabric._](http://content.iospress.com/articles/international-journal-of-applied-electromagnetics-and-mechanics/jae01282) International Journal of Applied Electromagnetics and Mechanics, 33(3), 1535-1545."
   ]
  },
  {
   "cell_type": "code",
   "execution_count": null,
   "metadata": {
    "collapsed": true
   },
   "outputs": [],
   "source": []
  }
 ],
 "metadata": {
  "kernelspec": {
   "display_name": "Python 2",
   "language": "python",
   "name": "python2"
  },
  "language_info": {
   "codemirror_mode": {
    "name": "ipython",
    "version": 2
   },
   "file_extension": ".py",
   "mimetype": "text/x-python",
   "name": "python",
   "nbconvert_exporter": "python",
   "pygments_lexer": "ipython2",
   "version": "2.7.9"
  }
 },
 "nbformat": 4,
 "nbformat_minor": 0
}
