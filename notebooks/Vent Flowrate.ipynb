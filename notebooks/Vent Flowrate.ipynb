{
 "cells": [
  {
   "cell_type": "markdown",
   "metadata": {},
   "source": [
    "######The latest version of this IPython notebook is available at [https://github.com/jckantor/Airbag-Design-for-Cargo-Airdrop](https://github.com/jckantor/Airbag-Design-for-Cargo-Airdrop) under the [MIT License](https://github.com/jckantor/Airbag-Design-for-Cargo-Airdrop/blob/master/LICENSE).\n",
    "\n",
    "J.C. Kantor (Kantor.1@nd.edu)"
   ]
  },
  {
   "cell_type": "markdown",
   "metadata": {
    "slideshow": {
     "slide_type": "slide"
    }
   },
   "source": [
    "# Vent Flowrate"
   ]
  },
  {
   "cell_type": "code",
   "execution_count": 2,
   "metadata": {
    "collapsed": false
   },
   "outputs": [
    {
     "data": {
      "text/html": [
       "<link href='http://fonts.googleapis.com/css?family=Fenix' rel='stylesheet' type='text/css'>\n",
       "<link href='http://fonts.googleapis.com/css?family=Alegreya+Sans:100,300,400,500,700,800,\n",
       "    900,100italic,300italic,400italic,500italic,700italic,800italic,900italic' rel='stylesheet' type='text/css'>\n",
       "<link href='http://fonts.googleapis.com/css?family=Source+Code+Pro:300,400' rel='stylesheet' type='text/css'>\n",
       "<link href='http://fonts.googleapis.com/css?family=Crimson+Text' rel='stylesheet' type='text/css'>\n",
       "<link href='http://fonts.googleapis.com/css?family=Kameron' rel='stylesheet' type='text/css'>\n",
       "<link href='http://fonts.googleapis.com/css?family=Lato:200' rel='stylesheet' type='text/css'>\n",
       "<link href='http://fonts.googleapis.com/css?family=Lato:300' rel='stylesheet' type='text/css'>\n",
       "<link href='http://fonts.googleapis.com/css?family=Lato:400' rel='stylesheet' type='text/css'>\n",
       "<link href='http://fonts.googleapis.com/css?family=Source+Code+Pro' rel='stylesheet' type='text/css'>\n",
       "\n",
       "<style>\n",
       "\n",
       "@font-face {\n",
       "    font-family: \"Computer Modern\";\n",
       "    src: url('http://mirrors.ctan.org/fonts/cm-unicode/fonts/otf/cmunss.otf');\n",
       "}\n",
       "\n",
       "#notebook_panel { /* establish main background and color */\n",
       "    background: #fff;\n",
       "    color: #ff0000;\n",
       "}\n",
       "\n",
       "div.cell { /* set cell width */\n",
       "    width:800px;\n",
       "    margin-left:0%;\n",
       "    margin-right:auto;\n",
       "}\n",
       "\n",
       "div #notebook { /* centers the content */\n",
       "    background: #fff;\n",
       "    width: 1000px;\n",
       "    margin: auto;\n",
       "    padding-left: 1em;\n",
       "}\n",
       "\n",
       "#notebook li { /* more space between bullet points */\n",
       "    margin-top:0.8em;\n",
       "}\n",
       "\n",
       "/* draw border around running cells */\n",
       "div.cell.border-box-sizing.code_cell.running {\n",
       "    border: 3px solid #111;\n",
       "}\n",
       "\n",
       "/* Put a solid color box around each code cell and its output,\n",
       "     visually linking them together */\n",
       "div.cell.code_cell {\n",
       "    background-color: /*#fff*/ rgba(171,165,131,0.2);\n",
       "    border-radius: 10px; /* rounded borders */\n",
       "    padding: 1em;\n",
       "    margin-top: 1em;\n",
       "}\n",
       "\n",
       ".CodeMirror {\n",
       "    font-family: \"Source Code Pro\";\n",
       "    font-size: 90%;\n",
       "}\n",
       "\n",
       "div.text_cell_render code {\n",
       "    font-family: \"Source Code Pro\";\n",
       "    font-size: 90%;\n",
       "    color: red;\n",
       "}\n",
       "\n",
       "pre {\n",
       "    font-family: \"Source Code Pro\";\n",
       "    font-size: 90%;\n",
       "}\n",
       "\n",
       "div.text_cell_render { /* rendering of basic text cell */\n",
       "    font-family: 'Alegreya Sans', Computer Modern, \"Helvetica Neue\", Arial, Helvetica, sans-serif;\n",
       "    line-height: 135%;\n",
       "    font-size: 120%;\n",
       "    width:700px;\n",
       "    margin-left:auto;\n",
       "    margin-right:auto;\n",
       "}\n",
       "\n",
       ".text_cell_render h1 {\n",
       "    font-family: 'Alegreya Sans', sans-serif;\n",
       "    font-weight: 300;\n",
       "    font-size: 32pt;\n",
       "    line-height: 100%;\n",
       "    color:#CD2305;\n",
       "    margin-bottom: 0.4em;\n",
       "    margin-top: 0em;\n",
       "    display: block;\n",
       "}\n",
       "\n",
       "h2 {\n",
       "    font-family: 'Fenix', serif;\n",
       "}\n",
       "\n",
       "h3 {\n",
       "    font-family: 'Fenix', serif;\n",
       "    margin-top:12px;\n",
       "    margin-bottom: 3px;\n",
       "}\n",
       "\n",
       "h4 {\n",
       "    font-family: 'Fenix', serif;\n",
       "}\n",
       "\n",
       ".text_cell_render h5 {\n",
       "    font-family: 'Alegreya Sans', sans-serif;\n",
       "    font-weight: 100;\n",
       "    font-size: 16pt;\n",
       "    color: #CD2305;\n",
       "    font-style: italic;\n",
       "    margin-bottom: .5em;\n",
       "    margin-top: 0.5em;\n",
       "    display: block;\n",
       "}\n",
       "\n",
       ".text_cell_render h6 { /*use this for copyright note*/\n",
       "    font-family: 'Alegreya Sans', sans-serif;\n",
       "    font-weight: 400;\n",
       "    font-size: 10pt;\n",
       "    font-style: normal;\n",
       "    line-height: 120%;\n",
       "    margin-bottom: 1px;\n",
       "    margin-top: 1px;\n",
       "}\n",
       "\n",
       ".MathJax, .MathJax_Display  {\n",
       "    font-family: 'Alegreya Sans', sans-serif  !important;\n",
       "    font-size: 90%  !important;\n",
       "    vertical-align: 0px  !important;\n",
       "}\n",
       "\n",
       ".warning{\n",
       "    color: rgb( 240, 20, 20 )\n",
       "}\n",
       "\n",
       "</style>\n",
       "\n",
       "<script>\n",
       "MathJax.Hub.Config({\n",
       "    TeX: {\n",
       "        extensions: [\"AMSmath.js\"]\n",
       "    },\n",
       "    tex2jax: {\n",
       "        inlineMath: [ ['$','$'], [\"\\\\(\",\"\\\\)\"] ],\n",
       "        displayMath: [ ['$$','$$'], [\"\\\\[\",\"\\\\]\"] ],\n",
       "        processEscapes: true\n",
       "    },\n",
       "    displayAlign: 'center', // Change this to 'center' to center equations.\n",
       "    \"HTML-CSS\": {\n",
       "        styles: {'.MathJax_Display': {\"margin\": 4}}\n",
       "    }\n",
       "});\n",
       "</script>\n",
       "\n"
      ],
      "text/plain": [
       "<IPython.core.display.HTML object>"
      ]
     },
     "execution_count": 2,
     "metadata": {},
     "output_type": "execute_result"
    }
   ],
   "source": [
    "#Initializations\n",
    "from IPython.core.display import HTML\n",
    "HTML(open(\"../styles/custom.css\", \"r\").read())"
   ]
  },
  {
   "cell_type": "code",
   "execution_count": 27,
   "metadata": {
    "collapsed": true
   },
   "outputs": [],
   "source": [
    "%matplotlib inline\n",
    "\n",
    "import numpy as np\n",
    "import matplotlib.pyplot as plt\n",
    "\n",
    "import math\n",
    "pi = math.pi\n",
    "\n",
    "from pint import UnitRegistry\n",
    "ur = UnitRegistry()"
   ]
  },
  {
   "cell_type": "markdown",
   "metadata": {},
   "source": [
    "## Mass Flow from an Orifice\n",
    "\n",
    "The mass flow through the airbag vent orifice is given by\n",
    "\n",
    "$$\\dot{m} = C_DA_o \\rho_o v_o$$\n",
    "\n",
    "where the subscript $o$ refers to conditions at the orifice. We begin by constructing an estimate for $\\rho_o v_o$ using Bernoulli's equation for compressible flow on a streamline, the pressure-density relationship for the isentropic expansion of an ideal gas, and an assumption regarding pressure at the orifice.\n",
    "\n",
    "#### Bernoulli's Equation\n",
    "\n",
    "Bernoulli's equation for the behavior of a compressible fluid along a streamline\n",
    "\n",
    "$$\\frac{v_o^2}{2} + \\frac{\\gamma}{\\gamma-1} \\frac{P_o}{\\rho_o}  = \\frac{\\gamma}{\\gamma-1} \\frac{P}{\\rho}$$\n",
    "\n",
    "which, for a streamline starting deep within the airbag, gives for $v_o$ \n",
    "\n",
    "$$v_o = \\sqrt{\\frac{2\\gamma}{\\gamma -1}\\left(\\frac{P}{\\rho} - \\frac{P_o}{\\rho_o}\\right)}$$\n",
    "\n",
    "then for $\\rho_ov_o$\n",
    "\n",
    "$$\\rho_ov_o = \\sqrt{\\frac{2\\gamma\\rho_o^2}{\\gamma -1}\\left(\\frac{P}{\\rho} - \\frac{P_o}{\\rho_o}\\right)}$$\n",
    "\n",
    "#### Adiabatic Expansion\n",
    "\n",
    "For the adiabatic expansion of an ideal gas,\n",
    "\n",
    "$$\\frac{\\rho_o}{\\rho} = \\left(\\frac{P_o}{P}\\right)^{\\frac{1}{\\gamma}}$$\n",
    "\n",
    "Substituting into the expression for $\\rho_ov_o$,\n",
    "\n",
    "$$\\rho_ov_o = \\sqrt{\\frac{2\\gamma\\rho^2}{\\gamma -1}\\left(\\frac{P_o}{P}\\right)^\\frac{2}{\\gamma}\\left(\\frac{P}{\\rho} - \\frac{P_o}{\\rho\\left(\\frac{P_o}{P}\\right)^\\frac{1}{\\gamma}}\\right)}$$\n",
    "\n",
    "After some rearrangement\n",
    "\n",
    "$$\\rho_ov_o = \\sqrt{\\frac{2\\gamma\\rho P}{\\gamma -1}\\left[\\left(\\frac{P_o}{P}\\right)^\\frac{2}{\\gamma} - \\left(\\frac{P_o}{P}\\right)^{1+\\frac{1}{\\gamma}}\\right]}$$\n",
    "\n",
    "#### Evaluating Pressure at the Orifice\n",
    "\n",
    "Assuming the pressure at the orifice is equal to the surrounding ambient pressure, $P_o = P_a$.  With that assumption we have\n",
    "\n",
    "$$\\dot{m} = C_D A_o \\sqrt{\\frac{2\\gamma\\rho P}{\\gamma -1}\\left[\\left(\\frac{P_a}{P}\\right)^\\frac{2}{\\gamma} - \\left(\\frac{P_a}{P}\\right)^{1+\\frac{1}{\\gamma}}\\right]}$$\n",
    "\n",
    "This expression is "
   ]
  },
  {
   "cell_type": "code",
   "execution_count": 132,
   "metadata": {
    "collapsed": false
   },
   "outputs": [
    {
     "data": {
      "text/plain": [
       "<matplotlib.text.Text at 0x1123d2950>"
      ]
     },
     "execution_count": 132,
     "metadata": {},
     "output_type": "execute_result"
    },
    {
     "data": {
      "image/png": "[encoded data removed]",
      "text/plain": [
       "<matplotlib.figure.Figure at 0x11262ca50>"
      ]
     },
     "metadata": {},
     "output_type": "display_data"
    }
   ],
   "source": [
    "from pint import UnitRegistry\n",
    "ur = UnitRegistry()\n",
    "\n",
    "# ideal gas parameters for air\n",
    "gamma = 1.4\n",
    "R = 8.314 * ur.J/(ur.degK*ur.mol)\n",
    "MW = 28.966 * ur.grams/ur.mol\n",
    "\n",
    "# ambient conditions\n",
    "Pa = 1.0 * ur.atm\n",
    "Ta = ur.Quantity(20,ur.degC).to(ur.degK)\n",
    "\n",
    "def Qflow(P,Pa):\n",
    "    Pr = Pa/P\n",
    "    rho = MW*P/(R*Ta)\n",
    "    b = 2.0*(gamma/(gamma-1))*rho*P\n",
    "    Q = np.sqrt(b*(Pr**(2.0/gamma)-Pr**((1.0+1.0/gamma))))\n",
    "    return Q.to(ur.kg/ur.m**2/ur.sec)\n",
    "\n",
    "P = np.linspace(1.0,3.0,100) * ur.atm\n",
    "Q = [Qflow(p,Pa) for p in P]\n",
    "\n",
    "plt.plot(P,[q.magnitude for q in Q])\n",
    "plt.title('Unchoked Flow from an Orifice, CD = 1')\n",
    "plt.ylabel(Q[0].units)\n",
    "plt.xlabel(P.units)"
   ]
  },
  {
   "cell_type": "markdown",
   "metadata": {},
   "source": [
    "## Choked Flow\n",
    "\n",
    "When the flow is choked, flow through the orific depends only on the upstream pressure $P$\n",
    "\n",
    "$$\\dot{m} = C_d A \\sqrt{\\gamma \\rho P \\left(\\frac{2}{\\gamma + 1}\\right)^\\left(\\frac{\\gamma + 1}{\\gamma - 1}\\right)}$$\n",
    "\n",
    "| Parameter | Description | Units |\n",
    "| :-------: | :-: | :-: |\n",
    "| $\\dot{m}$ | mass flow rate | kg/s |\n",
    "| $C_d$ | discharge coefficient | dimensionless|\n",
    "| $A$ | area of discharge | m**2 |\n",
    "| $\\gamma$ | ratio of heat capacities $\\frac{C_p}{C_v}$ | dimensionless |\n",
    "| $\\rho$ | gas density | kg/m**3 |\n",
    "| $P$ | pressure | Pa |\n",
    "| $T$ | temperature | K |\n",
    "\n",
    "\n",
    "### Critical Pressure Ratio\n",
    "\n",
    "The critical pressure ratio is the ratio of upstream to downstream pressure of a compressible gas at which leads to choked flow.  Given the ratio of heat capacities\n",
    "\n",
    "$$\\gamma = \\frac{C_p}{C_v}$$\n",
    "\n",
    "the critical ratio is\n",
    "\n",
    "$$\\left(\\frac{P_2}{P_1}\\right)_{critical} =  \\left(\\frac{\\gamma+1}{2}\\right)^\\left({\\frac{\\gamma}{\\gamma-1}}\\right)$$"
   ]
  },
  {
   "cell_type": "code",
   "execution_count": 133,
   "metadata": {
    "collapsed": false
   },
   "outputs": [
    {
     "data": {
      "text/plain": [
       "<matplotlib.text.Text at 0x11264b3d0>"
      ]
     },
     "execution_count": 133,
     "metadata": {},
     "output_type": "execute_result"
    },
    {
     "data": {
      "image/png": "[encoded data removed]",
      "text/plain": [
       "<matplotlib.figure.Figure at 0x11288fe50>"
      ]
     },
     "metadata": {},
     "output_type": "display_data"
    }
   ],
   "source": [
    "from pint import UnitRegistry\n",
    "ur = UnitRegistry()\n",
    "\n",
    "# ideal gas parameters for air\n",
    "gamma = 1.4\n",
    "R = 8.314 * ur.J/(ur.degK*ur.mol)\n",
    "MW = 28.966 * ur.grams/ur.mol\n",
    "\n",
    "# ambient conditions\n",
    "Pa = 1.0 * ur.atm\n",
    "Ta = ur.Quantity(20,ur.degC).to(ur.degK)\n",
    "\n",
    "def Qchoke(P):\n",
    "    Pr = Pa/P\n",
    "    rho = MW*P/(R*Ta)\n",
    "    a = gamma*P*rho\n",
    "    Q = np.sqrt(a*(2.0/(gamma+1))**((gamma+1)/(gamma-1)))\n",
    "    return Q.to(ur.kg/ur.m**2/ur.sec)\n",
    "\n",
    "P = np.linspace(1.0,3.0,100) * ur.atm\n",
    "Qc = [Qchoke(p) for p in P]\n",
    "\n",
    "plt.plot(P,[q.magnitude for q in Qc],P,[q.magnitude for q in Q])\n",
    "plt.title('Choked Flow from an Orifice, CD = 1')\n",
    "plt.ylabel(Qc[0].units)\n",
    "plt.xlabel(P.units)"
   ]
  },
  {
   "cell_type": "code",
   "execution_count": 1,
   "metadata": {
    "collapsed": false
   },
   "outputs": [
    {
     "name": "stdout",
     "output_type": "stream",
     "text": [
      "Species           CR      1/CR  \n",
      "air (dry)         1.8929  0.5283\n",
      "argon             2.0548  0.4867\n",
      "butane            1.7079  0.5855\n",
      "carbon dioxide    1.8324  0.5457\n",
      "chlorine          1.8506  0.5404\n",
      "helium            2.0488  0.4881\n",
      "hydrogen          1.8990  0.5266\n",
      "nitrogen          1.8953  0.5276\n",
      "oxygen            1.8929  0.5283\n",
      "propane           1.7410  0.5744\n",
      "True\n",
      "False\n"
     ]
    }
   ],
   "source": [
    "gamma = dict()\n",
    "\n",
    "gamma['air (dry)'] = 1.4\n",
    "gamma['argon'] = 1.67\n",
    "gamma['butane'] = 1.096\n",
    "gamma['carbon dioxide'] = 1.30\n",
    "gamma['chlorine'] = 1.33\n",
    "gamma['helium'] = 1.660\n",
    "gamma['hydrogen'] = 1.41\n",
    "gamma['nitrogen'] = 1.404\n",
    "gamma['oxygen'] = 1.400\n",
    "gamma['propane'] = 1.15\n",
    "\n",
    "print \"{0:<15s}   {1:6s}  {2:6s}\".format(\"Species\",\"CR\", \"1/CR\")\n",
    "\n",
    "for s in sorted(gamma.keys()):\n",
    "    r = ((gamma[s]+1)/2)**(gamma[s]/(gamma[s]-1))\n",
    "    print \"{0:<15s}   {1:6.4f}  {2:6.4f}\".format(s, r, 1.0/r)\n",
    "\n",
    "\n",
    "def isChoked(Phi, Plo = 101325.0, gamma = 1.4):\n",
    "    r = ((gamma+1)/2)**(gamma/(gamma-1))\n",
    "    return Phi > r*Plo\n",
    "\n",
    "print isChoked(250000.0)\n",
    "print isChoked(150000.0)"
   ]
  },
  {
   "cell_type": "markdown",
   "metadata": {
    "collapsed": true
   },
   "source": [
    "## Coefficient of Discharge\n",
    "\n",
    "Based on Browning (1963)\n",
    "\n",
    "$$C_D = 0.9 - 0.3\\frac{P_a}{P}$$"
   ]
  },
  {
   "cell_type": "code",
   "execution_count": null,
   "metadata": {
    "collapsed": true
   },
   "outputs": [],
   "source": []
  }
 ],
 "metadata": {
  "kernelspec": {
   "display_name": "Python 2",
   "language": "python",
   "name": "python2"
  },
  "language_info": {
   "codemirror_mode": {
    "name": "ipython",
    "version": 2
   },
   "file_extension": ".py",
   "mimetype": "text/x-python",
   "name": "python",
   "nbconvert_exporter": "python",
   "pygments_lexer": "ipython2",
   "version": "2.7.9"
  }
 },
 "nbformat": 4,
 "nbformat_minor": 0
}
