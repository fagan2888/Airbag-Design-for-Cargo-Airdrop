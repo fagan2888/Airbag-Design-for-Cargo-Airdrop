{
 "cells": [
  {
   "cell_type": "markdown",
   "metadata": {},
   "source": [
    "######The latest version of this IPython notebook is available at [https://github.com/jckantor/Airbag-Design-for-Cargo-Airdrop](https://github.com/jckantor/Airbag-Design-for-Cargo-Airdrop) under the [MIT License](https://github.com/jckantor/Airbag-Design-for-Cargo-Airdrop/blob/master/LICENSE).\n",
    "\n",
    "J.C. Kantor (Kantor.1@nd.edu)"
   ]
  },
  {
   "cell_type": "markdown",
   "metadata": {
    "slideshow": {
     "slide_type": "slide"
    }
   },
   "source": [
    "# Venting Mass Flowrate"
   ]
  },
  {
   "cell_type": "markdown",
   "metadata": {},
   "source": [
    "## Mass Flow from an Orifice\n",
    "\n",
    "The mass flow through the airbag vent orifice is given by\n",
    "\n",
    "$$\\dot{m} = C_DA_o \\rho_o v_o$$\n",
    "\n",
    "where the subscript $o$ refers to conditions at the orifice. We begin by constructing an estimate for $\\rho_o v_o$ using Bernoulli's equation for compressible flow on a streamline, the pressure-density relationship for the isentropic expansion of an ideal gas, and an assumption regarding pressure at the orifice."
   ]
  },
  {
   "cell_type": "code",
   "execution_count": 5,
   "metadata": {
    "collapsed": false
   },
   "outputs": [
    {
     "data": {
      "text/html": [
       "<link href='http://fonts.googleapis.com/css?family=Fenix' rel='stylesheet' type='text/css'>\n",
       "<link href='http://fonts.googleapis.com/css?family=Alegreya+Sans:100,300,400,500,700,800,\n",
       "    900,100italic,300italic,400italic,500italic,700italic,800italic,900italic' rel='stylesheet' type='text/css'>\n",
       "<link href='http://fonts.googleapis.com/css?family=Source+Code+Pro:300,400' rel='stylesheet' type='text/css'>\n",
       "<link href='http://fonts.googleapis.com/css?family=Crimson+Text' rel='stylesheet' type='text/css'>\n",
       "<link href='http://fonts.googleapis.com/css?family=Kameron' rel='stylesheet' type='text/css'>\n",
       "<link href='http://fonts.googleapis.com/css?family=Lato:200' rel='stylesheet' type='text/css'>\n",
       "<link href='http://fonts.googleapis.com/css?family=Lato:300' rel='stylesheet' type='text/css'>\n",
       "<link href='http://fonts.googleapis.com/css?family=Lato:400' rel='stylesheet' type='text/css'>\n",
       "<link href='http://fonts.googleapis.com/css?family=Source+Code+Pro' rel='stylesheet' type='text/css'>\n",
       "\n",
       "<style>\n",
       "\n",
       "@font-face {\n",
       "    font-family: \"Computer Modern\";\n",
       "    src: url('http://mirrors.ctan.org/fonts/cm-unicode/fonts/otf/cmunss.otf');\n",
       "}\n",
       "\n",
       "#notebook_panel { /* establish main background and color */\n",
       "    background: #fff;\n",
       "    color: #ff0000;\n",
       "}\n",
       "\n",
       "div.cell { /* set cell width */\n",
       "    width:800px;\n",
       "    margin-left:0%;\n",
       "    margin-right:auto;\n",
       "}\n",
       "\n",
       "div #notebook { /* centers the content */\n",
       "    background: #fff;\n",
       "    width: 1000px;\n",
       "    margin: auto;\n",
       "    padding-left: 1em;\n",
       "}\n",
       "\n",
       "#notebook li { /* more space between bullet points */\n",
       "    margin-top:0.8em;\n",
       "}\n",
       "\n",
       "/* draw border around running cells */\n",
       "div.cell.border-box-sizing.code_cell.running {\n",
       "    border: 3px solid #111;\n",
       "}\n",
       "\n",
       "/* Put a solid color box around each code cell and its output,\n",
       "     visually linking them together */\n",
       "div.cell.code_cell {\n",
       "    background-color: /*#fff*/ rgba(171,165,131,0.2);\n",
       "    border-radius: 10px; /* rounded borders */\n",
       "    padding: 1em;\n",
       "    margin-top: 1em;\n",
       "}\n",
       "\n",
       ".CodeMirror {\n",
       "    font-family: \"Source Code Pro\";\n",
       "    font-size: 90%;\n",
       "}\n",
       "\n",
       "div.text_cell_render code {\n",
       "    font-family: \"Source Code Pro\";\n",
       "    font-size: 90%;\n",
       "    color: red;\n",
       "}\n",
       "\n",
       "pre {\n",
       "    font-family: \"Source Code Pro\";\n",
       "    font-size: 90%;\n",
       "}\n",
       "\n",
       "div.text_cell_render { /* rendering of basic text cell */\n",
       "    font-family: 'Alegreya Sans', Computer Modern, \"Helvetica Neue\", Arial, Helvetica, sans-serif;\n",
       "    line-height: 135%;\n",
       "    font-size: 120%;\n",
       "    width:700px;\n",
       "    margin-left:auto;\n",
       "    margin-right:auto;\n",
       "}\n",
       "\n",
       ".text_cell_render h1 {\n",
       "    font-family: 'Alegreya Sans', sans-serif;\n",
       "    font-weight: 300;\n",
       "    font-size: 32pt;\n",
       "    line-height: 100%;\n",
       "    color:#CD2305;\n",
       "    margin-bottom: 0.4em;\n",
       "    margin-top: 0em;\n",
       "    display: block;\n",
       "}\n",
       "\n",
       "h2 {\n",
       "    font-family: 'Fenix', serif;\n",
       "}\n",
       "\n",
       "h3 {\n",
       "    font-family: 'Fenix', serif;\n",
       "    margin-top:12px;\n",
       "    margin-bottom: 3px;\n",
       "}\n",
       "\n",
       "h4 {\n",
       "    font-family: 'Fenix', serif;\n",
       "}\n",
       "\n",
       ".text_cell_render h5 {\n",
       "    font-family: 'Alegreya Sans', sans-serif;\n",
       "    font-weight: 100;\n",
       "    font-size: 16pt;\n",
       "    color: #CD2305;\n",
       "    font-style: italic;\n",
       "    margin-bottom: .5em;\n",
       "    margin-top: 0.5em;\n",
       "    display: block;\n",
       "}\n",
       "\n",
       ".text_cell_render h6 { /*use this for copyright note*/\n",
       "    font-family: 'Alegreya Sans', sans-serif;\n",
       "    font-weight: 400;\n",
       "    font-size: 10pt;\n",
       "    font-style: normal;\n",
       "    line-height: 120%;\n",
       "    margin-bottom: 1px;\n",
       "    margin-top: 1px;\n",
       "}\n",
       "\n",
       ".MathJax, .MathJax_Display  {\n",
       "    font-family: 'Alegreya Sans', sans-serif  !important;\n",
       "    font-size: 90%  !important;\n",
       "    vertical-align: 0px  !important;\n",
       "}\n",
       "\n",
       ".warning{\n",
       "    color: rgb( 240, 20, 20 )\n",
       "}\n",
       "\n",
       "</style>\n",
       "\n",
       "<script>\n",
       "MathJax.Hub.Config({\n",
       "    TeX: {\n",
       "        extensions: [\"AMSmath.js\"]\n",
       "    },\n",
       "    tex2jax: {\n",
       "        inlineMath: [ ['$','$'], [\"\\\\(\",\"\\\\)\"] ],\n",
       "        displayMath: [ ['$$','$$'], [\"\\\\[\",\"\\\\]\"] ],\n",
       "        processEscapes: true\n",
       "    },\n",
       "    displayAlign: 'center', // Change this to 'center' to center equations.\n",
       "    \"HTML-CSS\": {\n",
       "        styles: {'.MathJax_Display': {\"margin\": 4}}\n",
       "    }\n",
       "});\n",
       "</script>\n",
       "\n"
      ],
      "text/plain": [
       "<IPython.core.display.HTML object>"
      ]
     },
     "execution_count": 5,
     "metadata": {},
     "output_type": "execute_result"
    }
   ],
   "source": [
    "#Initializations\n",
    "from IPython.core.display import HTML\n",
    "HTML(open(\"../styles/custom.css\", \"r\").read())"
   ]
  },
  {
   "cell_type": "code",
   "execution_count": 6,
   "metadata": {
    "collapsed": true
   },
   "outputs": [],
   "source": [
    "%matplotlib inline\n",
    "\n",
    "import numpy as np\n",
    "import matplotlib.pyplot as plt\n",
    "\n",
    "import math\n",
    "pi = math.pi\n",
    "\n",
    "from pint import UnitRegistry\n",
    "ur = UnitRegistry()"
   ]
  },
  {
   "cell_type": "markdown",
   "metadata": {
    "collapsed": true
   },
   "source": [
    "## Coefficient of Discharge\n",
    "\n",
    "Based on Browning (1963)\n",
    "\n",
    "$$C_D = 0.9 - 0.3\\frac{P_a}{P}$$"
   ]
  },
  {
   "cell_type": "markdown",
   "metadata": {},
   "source": [
    "## Flow under Unchoked Conditions\n",
    "\n",
    "### Bernoulli's Equation\n",
    "\n",
    "Bernoulli's equation for the behavior of a compressible fluid along a streamline\n",
    "\n",
    "$$\\frac{v_o^2}{2} + \\frac{\\gamma}{\\gamma-1} \\frac{P_o}{\\rho_o}  = \\frac{\\gamma}{\\gamma-1} \\frac{P}{\\rho}$$\n",
    "\n",
    "which, for a streamline starting deep within the airbag, gives for $v_o$ \n",
    "\n",
    "$$v_o = \\sqrt{\\frac{2\\gamma}{\\gamma -1}\\left(\\frac{P}{\\rho} - \\frac{P_o}{\\rho_o}\\right)}$$\n",
    "\n",
    "then for $\\dot{m} = C_D A_o\\rho_ov_o$\n",
    "\n",
    "$$\\dot{m} = C_D A_o \\sqrt{\\frac{2\\gamma\\rho_o^2}{\\gamma -1}\\left(\\frac{P}{\\rho} - \\frac{P_o}{\\rho_o}\\right)}$$\n",
    "\n",
    "### Adiabatic Expansion\n",
    "\n",
    "For the adiabatic expansion of an ideal gas,\n",
    "\n",
    "$$\\frac{\\rho_o}{\\rho} = \\left(\\frac{P_o}{P}\\right)^{\\frac{1}{\\gamma}}$$\n",
    "\n",
    "Substituting into the expression for $\\rho_ov_o$,\n",
    "\n",
    "$$\\dot{m} = C_D A_o \\sqrt{\\frac{2\\gamma\\rho^2}{\\gamma -1}\\left(\\frac{P_o}{P}\\right)^\\frac{2}{\\gamma}\\left(\\frac{P}{\\rho} - \\frac{P_o}{\\rho\\left(\\frac{P_o}{P}\\right)^\\frac{1}{\\gamma}}\\right)}$$\n",
    "\n",
    "After rearrangement\n",
    "\n",
    "$$\\dot{m} = C_D A_o \\sqrt{\\frac{2\\gamma\\rho P}{\\gamma -1}\\left[\\left(\\frac{P_o}{P}\\right)^\\frac{2}{\\gamma} - \\left(\\frac{P_o}{P}\\right)^{1+\\frac{1}{\\gamma}}\\right]}$$\n",
    "\n",
    "### Evaluating at the Orifice\n",
    "\n",
    "Assuming the pressure at the orifice is equal to the surrounding ambient pressure, $P_o = P_a$.  With that assumption we have\n",
    "\n",
    "$$\\dot{m} = C_D A_o \\sqrt{\\frac{2\\gamma\\rho P}{\\gamma -1}\\left[\\left(\\frac{P_a}{P}\\right)^\\frac{2}{\\gamma} - \\left(\\frac{P_a}{P}\\right)^{1+\\frac{1}{\\gamma}}\\right]}$$\n",
    "\n",
    "This expression is found in [_Handbook of Chemical Hazard Analysis Procedures_](http://nepis.epa.gov/Exe/ZyNET.exe/10003MK5.TXT?ZyActionD=ZyDocument&Client=EPA&Index=1986+Thru+1990&Docs=&Query=&Time=&EndTime=&SearchMethod=1&TocRestrict=n&Toc=&TocEntry=&QField=&QFieldYear=&QFieldMonth=&QFieldDay=&IntQFieldOp=0&ExtQFieldOp=0&XmlQuery=&File=D%3A%5Czyfiles%5CIndex%20Data%5C86thru90%5CTxt%5C00000003%5C10003MK5.txt&User=ANONYMOUS&Password=anonymous&SortMethod=h%7C-&MaximumDocuments=1&FuzzyDegree=0&ImageQuality=r75g8/r75g8/x150y150g16/i425&Display=p%7Cf&DefSeekPage=x&SearchBack=ZyActionL&Back=ZyActionS&BackDesc=Results%20page&MaximumPages=1&ZyEntry=1&SeekPage=x&ZyPURL), Appendix B, Federal Emergency Management Agency, U.S. Dept. of Transportation, and U.S. Environmental Protection Agency, 1989. The relevant section is on page B-4 located on the page 391 of the pdf file."
   ]
  },
  {
   "cell_type": "code",
   "execution_count": 7,
   "metadata": {
    "collapsed": false
   },
   "outputs": [
    {
     "data": {
      "text/plain": [
       "<matplotlib.text.Text at 0x102b341d0>"
      ]
     },
     "execution_count": 7,
     "metadata": {},
     "output_type": "execute_result"
    },
    {
     "data": {
      "image/png": "[encoded data removed]",
      "text/plain": [
       "<matplotlib.figure.Figure at 0x10850af10>"
      ]
     },
     "metadata": {},
     "output_type": "display_data"
    }
   ],
   "source": [
    "# ideal gas parameters for air\n",
    "gamma = 1.4\n",
    "R = 8.314 * ur.J/(ur.degK*ur.mol)\n",
    "MW = 28.966 * ur.grams/ur.mol\n",
    "\n",
    "# ambient conditions\n",
    "Pa = 1.0 * ur.atm\n",
    "Ta = ur.Quantity(20,ur.degC).to(ur.degK)\n",
    "\n",
    "def Qunchoke(P,Pa):\n",
    "    Pr = Pa/P\n",
    "    rho = MW*P/(R*Ta)\n",
    "    b = 2.0*(gamma/(gamma-1))*rho*P\n",
    "    Q = np.sqrt(b*(Pr**(2.0/gamma)-Pr**((1.0+1.0/gamma))))\n",
    "    return Q.to(ur.kg/ur.m**2/ur.sec)\n",
    "\n",
    "P = np.linspace(1.0,3.0,100) * ur.atm\n",
    "Qu = [Qunchoke(p,Pa) for p in P]\n",
    "\n",
    "plt.plot(P,[q.magnitude for q in Qu])\n",
    "plt.title('Unchoked Flow from an Orifice, CD = 1')\n",
    "plt.ylabel(Qu[0].units)\n",
    "plt.xlabel(P.units)"
   ]
  },
  {
   "cell_type": "markdown",
   "metadata": {},
   "source": [
    "## Choked Flow\n",
    "\n",
    "When the flow is choked, flow through the orific depends only on the upstream pressure $P$\n",
    "\n",
    "$$\\dot{m} = C_D A \\sqrt{\\gamma \\rho P \\left(\\frac{2}{\\gamma + 1}\\right)^\\left(\\frac{\\gamma + 1}{\\gamma - 1}\\right)}$$\n",
    "\n",
    "| Parameter | Description | Units |\n",
    "| :-------: | :-: | :-: |\n",
    "| $\\dot{m}$ | mass flow rate | kg/s |\n",
    "| $C_d$ | discharge coefficient | dimensionless|\n",
    "| $A$ | area of discharge | m**2 |\n",
    "| $\\gamma$ | ratio of heat capacities $\\frac{C_p}{C_v}$ | dimensionless |\n",
    "| $\\rho$ | gas density | kg/m**3 |\n",
    "| $P$ | pressure | Pa |\n",
    "| $T$ | temperature | K |"
   ]
  },
  {
   "cell_type": "code",
   "execution_count": 10,
   "metadata": {
    "collapsed": false
   },
   "outputs": [
    {
     "data": {
      "text/plain": [
       "<matplotlib.text.Text at 0x10877ba50>"
      ]
     },
     "execution_count": 10,
     "metadata": {},
     "output_type": "execute_result"
    },
    {
     "data": {
      "image/png": "[encoded data removed]",
      "text/plain": [
       "<matplotlib.figure.Figure at 0x105bc40d0>"
      ]
     },
     "metadata": {},
     "output_type": "display_data"
    }
   ],
   "source": [
    "# ideal gas parameters for air\n",
    "gamma = 1.4\n",
    "R = 8.314 * ur.J/(ur.degK*ur.mol)\n",
    "MW = 28.966 * ur.grams/ur.mol\n",
    "\n",
    "# ambient conditions\n",
    "Pa = 1.0 * ur.atm\n",
    "Ta = ur.Quantity(20,ur.degC).to(ur.degK)\n",
    "\n",
    "def Qchoke(P):\n",
    "    rho = MW*P/(R*Ta)\n",
    "    a = gamma*P*rho\n",
    "    Q = np.sqrt(a*(2.0/(gamma+1))**((gamma+1)/(gamma-1)))\n",
    "    return Q.to(ur.kg/ur.m**2/ur.sec)\n",
    "\n",
    "P = np.linspace(1.0,3.0,100) * ur.atm\n",
    "Qc = [Qchoke(p) for p in P]\n",
    "\n",
    "plt.plot(P,[q.magnitude for q in Qc],P,[q.magnitude for q in Qc])\n",
    "plt.title('Choked Flow from an Orifice, CD = 1')\n",
    "plt.ylabel(Qc[0].units)\n",
    "plt.xlabel(P.units)"
   ]
  },
  {
   "cell_type": "markdown",
   "metadata": {},
   "source": [
    "## Critical Pressure Ratio\n",
    "\n",
    "The critical pressure ratio is the ratio of upstream to downstream pressure of a compressible gas at which leads to choked flow.  Given the ratio of heat capacities\n",
    "\n",
    "$$\\gamma = \\frac{C_p}{C_v}$$\n",
    "\n",
    "the critical ratio is\n",
    "\n",
    "$$\\left(\\frac{P_2}{P_1}\\right)_{critical} =  \\left(\\frac{\\gamma+1}{2}\\right)^\\left({\\frac{\\gamma}{\\gamma-1}}\\right)$$"
   ]
  },
  {
   "cell_type": "code",
   "execution_count": 3,
   "metadata": {
    "collapsed": false,
    "scrolled": true
   },
   "outputs": [
    {
     "name": "stdout",
     "output_type": "stream",
     "text": [
      "Species           CR      1/CR  \n",
      "air (dry)         1.8929  0.5283\n",
      "argon             2.0548  0.4867\n",
      "butane            1.7079  0.5855\n",
      "carbon dioxide    1.8324  0.5457\n",
      "chlorine          1.8506  0.5404\n",
      "helium            2.0488  0.4881\n",
      "hydrogen          1.8990  0.5266\n",
      "nitrogen          1.8953  0.5276\n",
      "oxygen            1.8929  0.5283\n",
      "propane           1.7410  0.5744\n"
     ]
    }
   ],
   "source": [
    "gamma = dict()\n",
    "\n",
    "gamma['air (dry)'] = 1.4\n",
    "gamma['argon'] = 1.67\n",
    "gamma['butane'] = 1.096\n",
    "gamma['carbon dioxide'] = 1.30\n",
    "gamma['chlorine'] = 1.33\n",
    "gamma['helium'] = 1.660\n",
    "gamma['hydrogen'] = 1.41\n",
    "gamma['nitrogen'] = 1.404\n",
    "gamma['oxygen'] = 1.400\n",
    "gamma['propane'] = 1.15\n",
    "\n",
    "print \"{0:<15s}   {1:6s}  {2:6s}\".format(\"Species\",\"CR\", \"1/CR\")\n",
    "\n",
    "for s in sorted(gamma.keys()):\n",
    "    r = ((gamma[s]+1)/2)**(gamma[s]/(gamma[s]-1))\n",
    "    print \"{0:<15s}   {1:6.4f}  {2:6.4f}\".format(s, r, 1.0/r)\n",
    "\n",
    "\n",
    "def isChoked(Phi, Plo = 101325.0, gamma = 1.4):\n",
    "    r = ((gamma+1)/2)**(gamma/(gamma-1))\n",
    "    return Phi > r*Plo\n"
   ]
  },
  {
   "cell_type": "markdown",
   "metadata": {},
   "source": [
    "## Procedure to Calculate the Airbag Vent Mass Flowrate\n",
    "\n",
    "Given the initial airbag pressure $P_i$ and absolute temperature $T_i$, the ambient pressure $P_a$, and gas constant $\\gamma$, and orifice vent area $A_o$:\n",
    "\n",
    "**Step 1.** Calculate the intial air density as\n",
    "\n",
    "$$\\rho_i = \\frac{M P_i}{R T_i}$$\n",
    "\n",
    "For adiabatic (isentropic) compression, subsequent values of the airbag pressure, temperature and air density satisfy\n",
    "\n",
    "$$ \\frac{P}{P_i} = \\left(\\frac{\\rho}{\\rho_i}\\right)^\\gamma =\n",
    "\\left(\\frac{T}{T_i}\\right)^\\frac{\\gamma}{\\gamma-1}$$\n",
    "\n",
    "**Step 2.** Given the ambient pressure $P_a$, compute the discharge coefficient\n",
    "\n",
    "$$C_D = 0.9 - 0.3\\frac{P_a}{P}$$\n",
    "\n",
    "**Step 3.** Compute the critical pressure ratio\n",
    "\n",
    "$$r = \\left(\\frac{\\gamma+1}{2}\\right)^\\left({\\frac{\\gamma}{\\gamma-1}}\\right)$$\n",
    "\n",
    "**Step 4.** Compute the mass flow for either unchoked or choked flow conditions\n",
    "\n",
    "$$ \\dot{m} = \\begin{cases}\n",
    "C_D A_o \\sqrt{\\frac{2\\gamma\\rho P}{\\gamma -1}\\left[\\left(\\frac{P_a}{P}\\right)^\\frac{2}{\\gamma} - \\left(\\frac{P_a}{P}\\right)^{1+\\frac{1}{\\gamma}}\\right]}\n",
    "& \\mbox{if } P \\leq r P_a \\\\\n",
    "C_D A_o \\sqrt{\\gamma \\rho P \\left(\\frac{2}{\\gamma + 1}\\right)^\\left(\\frac{\\gamma + 1}{\\gamma - 1}\\right)}\n",
    "& \\mbox{otherwise}\n",
    "\\end{cases}\n",
    "$$"
   ]
  },
  {
   "cell_type": "code",
   "execution_count": 34,
   "metadata": {
    "collapsed": false
   },
   "outputs": [
    {
     "data": {
      "text/plain": [
       "<matplotlib.text.Text at 0x10c610f50>"
      ]
     },
     "execution_count": 34,
     "metadata": {},
     "output_type": "execute_result"
    },
    {
     "data": {
      "image/png": "[encoded data removed]",
      "text/plain": [
       "<matplotlib.figure.Figure at 0x10c643650>"
      ]
     },
     "metadata": {},
     "output_type": "display_data"
    }
   ],
   "source": [
    "from pint import UnitRegistry\n",
    "ur = UnitRegistry()\n",
    "\n",
    "# ideal gas parameters for air\n",
    "gamma = 1.4\n",
    "R = 8.314 * ur.J/(ur.degK*ur.mol)\n",
    "MW = 28.966 * ur.grams/ur.mol\n",
    "\n",
    "# ambient conditions\n",
    "Pa = 1.0 * ur.atm\n",
    "Ta = ur.Quantity(20,ur.degC).to(ur.degK)\n",
    "\n",
    "def CD(P, Pa = 1.0 * ur.atm):\n",
    "    return 0.9 - 0.3*Pa/P\n",
    "\n",
    "def Qflow(T, P, Pa = 1.0 * ur.atm):\n",
    "    rho = MW*P/(R*T)\n",
    "    r = ((gamma+1)/2)**(gamma/(gamma-1))\n",
    "    if P <= r*Pa:\n",
    "        Pr = Pa/P\n",
    "        b = 2.0*(gamma/(gamma-1))*rho*P\n",
    "        Q = np.sqrt(b*(Pr**(2.0/gamma)-Pr**((1.0+1.0/gamma))))\n",
    "    else:\n",
    "        a = gamma*P*rho\n",
    "        Q = np.sqrt(a*(2.0/(gamma+1))**((gamma+1)/(gamma-1)))\n",
    "    return Q.to(ur.kg/ur.m**2/ur.sec)\n",
    "\n",
    "def Mflow(T, P, Pa, A = 1.0*ur.m**2):\n",
    "    return (CD(P,Pa)*A*Qflow(T,P,Pa)).to_base_units()\n",
    "\n",
    "P = np.linspace(1.0,2.5,100) * ur.atm\n",
    "M = [Mflow(Ta,p,Pa,A = 100*ur.cm**2) for p in P]\n",
    "\n",
    "plt.plot(P,[m.magnitude for m in M])\n",
    "plt.title('Mass Flow from an 100 cm**2 Orifice')\n",
    "plt.ylabel(M[0].units)\n",
    "plt.xlabel(P.units)"
   ]
  },
  {
   "cell_type": "code",
   "execution_count": null,
   "metadata": {
    "collapsed": true
   },
   "outputs": [],
   "source": []
  }
 ],
 "metadata": {
  "kernelspec": {
   "display_name": "Python 2",
   "language": "python",
   "name": "python2"
  },
  "language_info": {
   "codemirror_mode": {
    "name": "ipython",
    "version": 2
   },
   "file_extension": ".py",
   "mimetype": "text/x-python",
   "name": "python",
   "nbconvert_exporter": "python",
   "pygments_lexer": "ipython2",
   "version": "2.7.9"
  }
 },
 "nbformat": 4,
 "nbformat_minor": 0
}
